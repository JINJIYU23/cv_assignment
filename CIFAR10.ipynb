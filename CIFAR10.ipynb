{
 "cells": [
  {
   "cell_type": "code",
   "execution_count": 2,
   "id": "39726d0e",
   "metadata": {},
   "outputs": [
    {
     "name": "stdout",
     "output_type": "stream",
     "text": [
      "operates on the cuda\n"
     ]
    }
   ],
   "source": [
    "import torch\n",
    "import torch.nn as nn\n",
    "\n",
    "from torchvision.datasets import CIFAR10\n",
    "from torch.utils.data import DataLoader\n",
    "\n",
    "from torchvision.transforms import ToTensor\n",
    "\n",
    "import matplotlib.pyplot as plt\n",
    "\n",
    "from torchmetrics import Accuracy\n",
    "from tqdm import tqdm\n",
    "\n",
    "# GPU가 이용 가능한 경우 \"cuda\", 그렇지 않으면 \"cpu\"로 설정\n",
    "device = \"cuda\" if torch.cuda.is_available() else \"cpu\"\n",
    "\n",
    "print(\"operates on the {}\".format(device))"
   ]
  },
  {
   "cell_type": "code",
   "execution_count": 3,
   "id": "01cd8aaa",
   "metadata": {},
   "outputs": [],
   "source": [
    "# MLP Model 정의\n",
    "class SequentialModel(nn.Module):\n",
    "    def __init__(self):\n",
    "        super().__init__()\n",
    "\n",
    "        # 이미지를 일차원으로 펼치는 Flatten 모듈\n",
    "        self.reshape = nn.Flatten()\n",
    "\n",
    "        # MLP 모델을 정의하는 Sequential 모듈\n",
    "        self.model = nn.Sequential(\n",
    "            nn.Linear(3072, 1024),  # 입력 특성 3072, 출력 특성 1024인 선형 레이어\n",
    "            nn.ReLU(),  # ReLU 활성화 함수\n",
    "            nn.Linear(1024, 512),  # 입력 특성 1024, 출력 특성 512인 선형 레이어\n",
    "            nn.ReLU(),  # ReLU 활성화 함수\n",
    "            nn.Linear(512, 512),   # 입력 특성 512, 출력 특성 512인 선형 레이어\n",
    "            nn.ReLU(),  # ReLU 활성화 함수\n",
    "            nn.Linear(512, 10),    # 입력 특성 512, 출력 특성 10인 선형 레이어\n",
    "        )\n",
    "\n",
    "    def forward(self, x):\n",
    "        # 이미지를 일차원으로 펼침\n",
    "        x = self.reshape(x)\n",
    "        # MLP 모델에 입력 데이터를 전달하여 출력을 계산\n",
    "        x = self.model(x)\n",
    "        return x"
   ]
  },
  {
   "cell_type": "code",
   "execution_count": 4,
   "id": "80dc6114",
   "metadata": {},
   "outputs": [],
   "source": [
    "def train(dataloader, model, loss_fn, optimizer, metric):\n",
    "    # 데이터셋의 크기와 배치 크기 가져오기\n",
    "    size = len(dataloader.dataset)\n",
    "    batch_size = len(dataloader)\n",
    "    \n",
    "    # 손실과 정확도를 저장할 변수 초기화\n",
    "    total_loss = 0\n",
    "    acc_list = []\n",
    "    \n",
    "    # 모델을 학습 모드로 설정\n",
    "    model.train()\n",
    "    \n",
    "    # 각 배치에 대해 학습 진행\n",
    "    for batch, (x, y) in enumerate(tqdm(dataloader)):\n",
    "        # GPU가 사용 가능한 경우 데이터를 GPU로 이동\n",
    "        if torch.cuda.is_available():\n",
    "            x = x.to(device)\n",
    "            y = y.to(device)\n",
    "        \n",
    "        # 모델에 입력 데이터 전달하여 예측값 계산\n",
    "        y_pred = model(x)\n",
    "        \n",
    "        # 손실 계산\n",
    "        loss = loss_fn(y_pred, y)\n",
    "        total_loss += loss.item()\n",
    "        \n",
    "        # 정확도 계산\n",
    "        acc = metric(y_pred, y)\n",
    "        acc_list.append(acc)\n",
    "        \n",
    "        # 그래디언트 초기화, 역전파, 최적화 수행\n",
    "        optimizer.zero_grad()\n",
    "        loss.backward()\n",
    "        optimizer.step()\n",
    "    \n",
    "    # 배치 크기로 나누어 평균 손실과 정확도 계산\n",
    "    total_loss /= batch_size\n",
    "    total_acc = torch.tensor(acc_list).to(device).mean().item()\n",
    "    \n",
    "    # 학습 결과 반환\n",
    "    return total_loss, total_acc"
   ]
  },
  {
   "cell_type": "code",
   "execution_count": 5,
   "id": "35c8b81e",
   "metadata": {},
   "outputs": [],
   "source": [
    "def validation(dataloader, model, loss_fn, metric):\n",
    "    # 데이터셋의 크기와 배치 크기 가져오기\n",
    "    size = len(dataloader.dataset)\n",
    "    batch_size = len(dataloader)\n",
    "    \n",
    "    # 손실과 정확도를 저장할 변수 초기화\n",
    "    total_loss = 0\n",
    "    acc_list = []\n",
    "    \n",
    "    # 모델을 평가 모드로 설정\n",
    "    model.eval()\n",
    "    \n",
    "    # 그래디언트 계산을 비활성화한 상태에서 평가 진행\n",
    "    with torch.no_grad():\n",
    "        for x, y in tqdm(dataloader):\n",
    "            # GPU가 사용 가능한 경우 데이터를 GPU로 이동\n",
    "            if torch.cuda.is_available():\n",
    "                x = x.to(device)\n",
    "                y = y.to(device)\n",
    "            \n",
    "            # 모델에 입력 데이터 전달하여 예측값 계산\n",
    "            y_pred = model(x)\n",
    "            \n",
    "            # 손실 계산\n",
    "            loss = loss_fn(y_pred, y)\n",
    "            total_loss += loss.item()\n",
    "\n",
    "            # 정확도 계산\n",
    "            acc = metric(y_pred, y)\n",
    "            acc_list.append(acc)\n",
    "            \n",
    "    # 배치 크기로 나누어 평균 손실과 정확도 계산\n",
    "    total_loss /= batch_size\n",
    "    total_acc = torch.tensor(acc_list).to(device).mean().item()\n",
    "    \n",
    "    # 평가 결과 반환\n",
    "    return total_loss, total_acc\n"
   ]
  },
  {
   "cell_type": "code",
   "execution_count": 6,
   "id": "c64d0ec2",
   "metadata": {},
   "outputs": [],
   "source": [
    "def test(dataloader, model, loss_fn, metric):\n",
    "    # validation 함수를 이용하여 테스트 데이터에 대한 정확도 평가\n",
    "    _, mean_acc = validation(dataloader, model, loss_fn, metric)\n",
    "    \n",
    "    # 평균 정확도 반환\n",
    "    return mean_acc"
   ]
  },
  {
   "cell_type": "code",
   "execution_count": 7,
   "id": "d01ae8fd",
   "metadata": {},
   "outputs": [
    {
     "name": "stdout",
     "output_type": "stream",
     "text": [
      "Files already downloaded and verified\n",
      "Files already downloaded and verified\n"
     ]
    }
   ],
   "source": [
    "# 데이터셋 불러오기\n",
    "\n",
    "# CIFAR-10 데이터셋의 학습 데이터를 불러와서 ToTensor() 변환을 적용하여 텐서로 변환\n",
    "train_data = CIFAR10(root=\"data\", train=True, transform=ToTensor(), download=True)\n",
    "\n",
    "# CIFAR-10 데이터셋의 테스트 데이터를 불러와서 ToTensor() 변환을 적용하여 텐서로 변환\n",
    "test_data = CIFAR10(root=\"data\", train=False, transform=ToTensor(), download=True)\n",
    "\n",
    "# 학습 데이터로 사용할 DataLoader 생성 (배치 크기: 256)\n",
    "train_loader = DataLoader(train_data, batch_size=256)\n",
    "\n",
    "# 테스트 데이터로 사용할 DataLoader 생성 (배치 크기: 256)\n",
    "test_loader = DataLoader(test_data, batch_size=256)"
   ]
  },
  {
   "cell_type": "code",
   "execution_count": 8,
   "id": "e35e8012",
   "metadata": {},
   "outputs": [],
   "source": [
    "# 모델 하이퍼 파라미터 정의\n",
    "\n",
    "# SequentialModel 클래스를 이용하여 모델 초기화 및 GPU 사용 설정\n",
    "model = SequentialModel().to(device)\n",
    "\n",
    "# CrossEntropyLoss를 사용한 손실 함수 정의\n",
    "loss_fn = nn.CrossEntropyLoss()\n",
    "\n",
    "# Adam 옵티마이저를 사용하여 최적화 설정 (학습률: 0.0001)\n",
    "optimizer = torch.optim.Adam(model.parameters(), lr=0.0001)\n",
    "\n",
    "# Accuracy 메트릭을 사용하여 다중 클래스 분류 정확도 평가 (클래스 수: 10)\n",
    "metric = Accuracy(task=\"multiclass\", num_classes=10).to(device)\n",
    "\n",
    "# 최대 학습 에폭 설정\n",
    "max_epochs = 100\n",
    "\n",
    "# 학습 과정에서 기록할 히스토리 변수 초기화\n",
    "history = {\n",
    "    \"loss\": [],          # 학습 손실 기록\n",
    "    \"accuracy\": [],      # 학습 정확도 기록\n",
    "    \"val_loss\": [],      # 검증 손실 기록\n",
    "    \"val_accuracy\": [],  # 검증 정확도 기록\n",
    "}"
   ]
  },
  {
   "cell_type": "code",
   "execution_count": 9,
   "id": "6cc2ff11",
   "metadata": {},
   "outputs": [
    {
     "name": "stdout",
     "output_type": "stream",
     "text": [
      "Epoch 1\n",
      "====================\n"
     ]
    },
    {
     "name": "stderr",
     "output_type": "stream",
     "text": [
      "100%|██████████| 196/196 [00:14<00:00, 13.90it/s]\n",
      "100%|██████████| 40/40 [00:01<00:00, 23.46it/s]\n"
     ]
    },
    {
     "name": "stdout",
     "output_type": "stream",
     "text": [
      "Validation Accuracy: 35.26367 %\n",
      "Epoch 2\n",
      "====================\n"
     ]
    },
    {
     "name": "stderr",
     "output_type": "stream",
     "text": [
      "100%|██████████| 196/196 [00:08<00:00, 23.09it/s]\n",
      "100%|██████████| 40/40 [00:01<00:00, 26.36it/s]\n"
     ]
    },
    {
     "name": "stdout",
     "output_type": "stream",
     "text": [
      "Validation Accuracy: 39.58984 %\n",
      "Epoch 3\n",
      "====================\n"
     ]
    },
    {
     "name": "stderr",
     "output_type": "stream",
     "text": [
      "100%|██████████| 196/196 [00:09<00:00, 21.71it/s]\n",
      "100%|██████████| 40/40 [00:01<00:00, 24.45it/s]\n"
     ]
    },
    {
     "name": "stdout",
     "output_type": "stream",
     "text": [
      "Validation Accuracy: 42.02149 %\n",
      "Epoch 4\n",
      "====================\n"
     ]
    },
    {
     "name": "stderr",
     "output_type": "stream",
     "text": [
      "100%|██████████| 196/196 [00:09<00:00, 20.53it/s]\n",
      "100%|██████████| 40/40 [00:01<00:00, 23.44it/s]\n"
     ]
    },
    {
     "name": "stdout",
     "output_type": "stream",
     "text": [
      "Validation Accuracy: 43.68164 %\n",
      "Epoch 5\n",
      "====================\n"
     ]
    },
    {
     "name": "stderr",
     "output_type": "stream",
     "text": [
      "100%|██████████| 196/196 [00:09<00:00, 21.47it/s]\n",
      "100%|██████████| 40/40 [00:01<00:00, 23.12it/s]\n"
     ]
    },
    {
     "name": "stdout",
     "output_type": "stream",
     "text": [
      "Validation Accuracy: 45.15625 %\n",
      "Epoch 6\n",
      "====================\n"
     ]
    },
    {
     "name": "stderr",
     "output_type": "stream",
     "text": [
      "100%|██████████| 196/196 [00:09<00:00, 19.98it/s]\n",
      "100%|██████████| 40/40 [00:01<00:00, 26.65it/s]\n"
     ]
    },
    {
     "name": "stdout",
     "output_type": "stream",
     "text": [
      "Validation Accuracy: 46.33789 %\n",
      "Epoch 7\n",
      "====================\n"
     ]
    },
    {
     "name": "stderr",
     "output_type": "stream",
     "text": [
      "100%|██████████| 196/196 [00:08<00:00, 21.80it/s]\n",
      "100%|██████████| 40/40 [00:01<00:00, 26.76it/s]\n"
     ]
    },
    {
     "name": "stdout",
     "output_type": "stream",
     "text": [
      "Validation Accuracy: 47.45117 %\n",
      "Epoch 8\n",
      "====================\n"
     ]
    },
    {
     "name": "stderr",
     "output_type": "stream",
     "text": [
      "100%|██████████| 196/196 [00:08<00:00, 22.78it/s]\n",
      "100%|██████████| 40/40 [00:01<00:00, 30.33it/s]\n"
     ]
    },
    {
     "name": "stdout",
     "output_type": "stream",
     "text": [
      "Validation Accuracy: 48.12500 %\n",
      "Epoch 9\n",
      "====================\n"
     ]
    },
    {
     "name": "stderr",
     "output_type": "stream",
     "text": [
      "100%|██████████| 196/196 [00:08<00:00, 23.62it/s]\n",
      "100%|██████████| 40/40 [00:01<00:00, 23.95it/s]\n"
     ]
    },
    {
     "name": "stdout",
     "output_type": "stream",
     "text": [
      "Validation Accuracy: 48.90625 %\n",
      "Epoch 10\n",
      "====================\n"
     ]
    },
    {
     "name": "stderr",
     "output_type": "stream",
     "text": [
      "100%|██████████| 196/196 [00:09<00:00, 21.54it/s]\n",
      "100%|██████████| 40/40 [00:01<00:00, 25.09it/s]\n"
     ]
    },
    {
     "name": "stdout",
     "output_type": "stream",
     "text": [
      "Validation Accuracy: 49.43359 %\n",
      "Epoch 11\n",
      "====================\n"
     ]
    },
    {
     "name": "stderr",
     "output_type": "stream",
     "text": [
      "100%|██████████| 196/196 [00:08<00:00, 22.18it/s]\n",
      "100%|██████████| 40/40 [00:01<00:00, 29.81it/s]\n"
     ]
    },
    {
     "name": "stdout",
     "output_type": "stream",
     "text": [
      "Validation Accuracy: 50.04883 %\n",
      "Epoch 12\n",
      "====================\n"
     ]
    },
    {
     "name": "stderr",
     "output_type": "stream",
     "text": [
      "100%|██████████| 196/196 [00:08<00:00, 22.46it/s]\n",
      "100%|██████████| 40/40 [00:01<00:00, 30.40it/s]\n"
     ]
    },
    {
     "name": "stdout",
     "output_type": "stream",
     "text": [
      "Validation Accuracy: 50.73242 %\n",
      "Epoch 13\n",
      "====================\n"
     ]
    },
    {
     "name": "stderr",
     "output_type": "stream",
     "text": [
      "100%|██████████| 196/196 [00:10<00:00, 19.24it/s]\n",
      "100%|██████████| 40/40 [00:01<00:00, 23.15it/s]\n"
     ]
    },
    {
     "name": "stdout",
     "output_type": "stream",
     "text": [
      "Validation Accuracy: 51.48438 %\n",
      "Epoch 14\n",
      "====================\n"
     ]
    },
    {
     "name": "stderr",
     "output_type": "stream",
     "text": [
      "100%|██████████| 196/196 [00:10<00:00, 18.48it/s]\n",
      "100%|██████████| 40/40 [00:01<00:00, 22.76it/s]\n"
     ]
    },
    {
     "name": "stdout",
     "output_type": "stream",
     "text": [
      "Validation Accuracy: 51.91407 %\n",
      "Epoch 15\n",
      "====================\n"
     ]
    },
    {
     "name": "stderr",
     "output_type": "stream",
     "text": [
      "100%|██████████| 196/196 [00:10<00:00, 18.96it/s]\n",
      "100%|██████████| 40/40 [00:01<00:00, 26.65it/s]\n"
     ]
    },
    {
     "name": "stdout",
     "output_type": "stream",
     "text": [
      "Validation Accuracy: 52.22656 %\n",
      "Epoch 16\n",
      "====================\n"
     ]
    },
    {
     "name": "stderr",
     "output_type": "stream",
     "text": [
      "100%|██████████| 196/196 [00:10<00:00, 18.62it/s]\n",
      "100%|██████████| 40/40 [00:01<00:00, 24.20it/s]\n"
     ]
    },
    {
     "name": "stdout",
     "output_type": "stream",
     "text": [
      "Validation Accuracy: 52.21680 %\n",
      "Epoch 17\n",
      "====================\n"
     ]
    },
    {
     "name": "stderr",
     "output_type": "stream",
     "text": [
      "100%|██████████| 196/196 [00:10<00:00, 18.85it/s]\n",
      "100%|██████████| 40/40 [00:01<00:00, 24.39it/s]\n"
     ]
    },
    {
     "name": "stdout",
     "output_type": "stream",
     "text": [
      "Validation Accuracy: 52.42187 %\n",
      "Epoch 18\n",
      "====================\n"
     ]
    },
    {
     "name": "stderr",
     "output_type": "stream",
     "text": [
      "100%|██████████| 196/196 [00:10<00:00, 19.04it/s]\n",
      "100%|██████████| 40/40 [00:01<00:00, 24.88it/s]\n"
     ]
    },
    {
     "name": "stdout",
     "output_type": "stream",
     "text": [
      "Validation Accuracy: 52.65625 %\n",
      "Epoch 19\n",
      "====================\n"
     ]
    },
    {
     "name": "stderr",
     "output_type": "stream",
     "text": [
      "100%|██████████| 196/196 [00:10<00:00, 18.26it/s]\n",
      "100%|██████████| 40/40 [00:01<00:00, 24.48it/s]\n"
     ]
    },
    {
     "name": "stdout",
     "output_type": "stream",
     "text": [
      "Validation Accuracy: 53.12500 %\n",
      "Epoch 20\n",
      "====================\n"
     ]
    },
    {
     "name": "stderr",
     "output_type": "stream",
     "text": [
      "100%|██████████| 196/196 [00:10<00:00, 18.44it/s]\n",
      "100%|██████████| 40/40 [00:01<00:00, 23.34it/s]\n"
     ]
    },
    {
     "name": "stdout",
     "output_type": "stream",
     "text": [
      "Validation Accuracy: 53.00781 %\n",
      "Epoch 21\n",
      "====================\n"
     ]
    },
    {
     "name": "stderr",
     "output_type": "stream",
     "text": [
      "100%|██████████| 196/196 [00:10<00:00, 17.84it/s]\n",
      "100%|██████████| 40/40 [00:01<00:00, 24.65it/s]\n"
     ]
    },
    {
     "name": "stdout",
     "output_type": "stream",
     "text": [
      "Validation Accuracy: 53.12500 %\n",
      "Epoch 22\n",
      "====================\n"
     ]
    },
    {
     "name": "stderr",
     "output_type": "stream",
     "text": [
      "100%|██████████| 196/196 [00:09<00:00, 19.93it/s]\n",
      "100%|██████████| 40/40 [00:01<00:00, 25.09it/s]\n"
     ]
    },
    {
     "name": "stdout",
     "output_type": "stream",
     "text": [
      "Validation Accuracy: 52.91016 %\n",
      "Epoch 23\n",
      "====================\n"
     ]
    },
    {
     "name": "stderr",
     "output_type": "stream",
     "text": [
      "100%|██████████| 196/196 [00:08<00:00, 22.18it/s]\n",
      "100%|██████████| 40/40 [00:01<00:00, 29.76it/s]\n"
     ]
    },
    {
     "name": "stdout",
     "output_type": "stream",
     "text": [
      "Validation Accuracy: 52.73438 %\n",
      "Epoch 24\n",
      "====================\n"
     ]
    },
    {
     "name": "stderr",
     "output_type": "stream",
     "text": [
      "100%|██████████| 196/196 [00:08<00:00, 23.20it/s]\n",
      "100%|██████████| 40/40 [00:01<00:00, 25.74it/s]\n"
     ]
    },
    {
     "name": "stdout",
     "output_type": "stream",
     "text": [
      "Validation Accuracy: 52.75391 %\n",
      "Epoch 25\n",
      "====================\n"
     ]
    },
    {
     "name": "stderr",
     "output_type": "stream",
     "text": [
      "100%|██████████| 196/196 [00:08<00:00, 23.59it/s]\n",
      "100%|██████████| 40/40 [00:01<00:00, 26.25it/s]\n"
     ]
    },
    {
     "name": "stdout",
     "output_type": "stream",
     "text": [
      "Validation Accuracy: 52.60742 %\n",
      "Epoch 26\n",
      "====================\n"
     ]
    },
    {
     "name": "stderr",
     "output_type": "stream",
     "text": [
      "100%|██████████| 196/196 [00:08<00:00, 23.13it/s]\n",
      "100%|██████████| 40/40 [00:01<00:00, 25.27it/s]\n"
     ]
    },
    {
     "name": "stdout",
     "output_type": "stream",
     "text": [
      "Validation Accuracy: 52.47070 %\n",
      "Epoch 27\n",
      "====================\n"
     ]
    },
    {
     "name": "stderr",
     "output_type": "stream",
     "text": [
      "100%|██████████| 196/196 [00:08<00:00, 22.81it/s]\n",
      "100%|██████████| 40/40 [00:01<00:00, 26.40it/s]\n"
     ]
    },
    {
     "name": "stdout",
     "output_type": "stream",
     "text": [
      "Validation Accuracy: 52.23633 %\n",
      "Epoch 28\n",
      "====================\n"
     ]
    },
    {
     "name": "stderr",
     "output_type": "stream",
     "text": [
      "100%|██████████| 196/196 [00:08<00:00, 21.79it/s]\n",
      "100%|██████████| 40/40 [00:01<00:00, 26.40it/s]\n"
     ]
    },
    {
     "name": "stdout",
     "output_type": "stream",
     "text": [
      "Validation Accuracy: 51.95312 %\n",
      "Epoch 29\n",
      "====================\n"
     ]
    },
    {
     "name": "stderr",
     "output_type": "stream",
     "text": [
      "100%|██████████| 196/196 [00:09<00:00, 20.28it/s]\n",
      "100%|██████████| 40/40 [00:01<00:00, 23.91it/s]\n"
     ]
    },
    {
     "name": "stdout",
     "output_type": "stream",
     "text": [
      "Validation Accuracy: 51.93359 %\n",
      "Epoch 30\n",
      "====================\n"
     ]
    },
    {
     "name": "stderr",
     "output_type": "stream",
     "text": [
      "100%|██████████| 196/196 [00:09<00:00, 20.19it/s]\n",
      "100%|██████████| 40/40 [00:01<00:00, 23.94it/s]\n"
     ]
    },
    {
     "name": "stdout",
     "output_type": "stream",
     "text": [
      "Validation Accuracy: 51.39648 %\n",
      "Epoch 31\n",
      "====================\n"
     ]
    },
    {
     "name": "stderr",
     "output_type": "stream",
     "text": [
      "100%|██████████| 196/196 [00:09<00:00, 20.07it/s]\n",
      "100%|██████████| 40/40 [00:01<00:00, 23.16it/s]\n"
     ]
    },
    {
     "name": "stdout",
     "output_type": "stream",
     "text": [
      "Validation Accuracy: 51.72852 %\n",
      "Epoch 32\n",
      "====================\n"
     ]
    },
    {
     "name": "stderr",
     "output_type": "stream",
     "text": [
      "100%|██████████| 196/196 [00:09<00:00, 20.21it/s]\n",
      "100%|██████████| 40/40 [00:01<00:00, 29.54it/s]\n"
     ]
    },
    {
     "name": "stdout",
     "output_type": "stream",
     "text": [
      "Validation Accuracy: 51.80664 %\n",
      "Epoch 33\n",
      "====================\n"
     ]
    },
    {
     "name": "stderr",
     "output_type": "stream",
     "text": [
      "100%|██████████| 196/196 [00:09<00:00, 20.45it/s]\n",
      "100%|██████████| 40/40 [00:01<00:00, 27.19it/s]\n"
     ]
    },
    {
     "name": "stdout",
     "output_type": "stream",
     "text": [
      "Validation Accuracy: 51.90430 %\n",
      "Epoch 34\n",
      "====================\n"
     ]
    },
    {
     "name": "stderr",
     "output_type": "stream",
     "text": [
      "100%|██████████| 196/196 [00:11<00:00, 17.71it/s]\n",
      "100%|██████████| 40/40 [00:01<00:00, 24.60it/s]\n"
     ]
    },
    {
     "name": "stdout",
     "output_type": "stream",
     "text": [
      "Validation Accuracy: 53.24219 %\n",
      "Epoch 35\n",
      "====================\n"
     ]
    },
    {
     "name": "stderr",
     "output_type": "stream",
     "text": [
      "100%|██████████| 196/196 [00:10<00:00, 17.96it/s]\n",
      "100%|██████████| 40/40 [00:01<00:00, 23.95it/s]\n"
     ]
    },
    {
     "name": "stdout",
     "output_type": "stream",
     "text": [
      "Validation Accuracy: 53.69141 %\n",
      "Epoch 36\n",
      "====================\n"
     ]
    },
    {
     "name": "stderr",
     "output_type": "stream",
     "text": [
      "100%|██████████| 196/196 [00:09<00:00, 20.22it/s]\n",
      "100%|██████████| 40/40 [00:01<00:00, 25.82it/s]\n"
     ]
    },
    {
     "name": "stdout",
     "output_type": "stream",
     "text": [
      "Validation Accuracy: 54.38477 %\n",
      "Epoch 37\n",
      "====================\n"
     ]
    },
    {
     "name": "stderr",
     "output_type": "stream",
     "text": [
      "100%|██████████| 196/196 [00:10<00:00, 18.09it/s]\n",
      "100%|██████████| 40/40 [00:01<00:00, 23.06it/s]\n"
     ]
    },
    {
     "name": "stdout",
     "output_type": "stream",
     "text": [
      "Validation Accuracy: 54.41406 %\n",
      "Epoch 38\n",
      "====================\n"
     ]
    },
    {
     "name": "stderr",
     "output_type": "stream",
     "text": [
      "100%|██████████| 196/196 [00:10<00:00, 19.48it/s]\n",
      "100%|██████████| 40/40 [00:01<00:00, 23.23it/s]\n"
     ]
    },
    {
     "name": "stdout",
     "output_type": "stream",
     "text": [
      "Validation Accuracy: 54.30664 %\n",
      "Epoch 39\n",
      "====================\n"
     ]
    },
    {
     "name": "stderr",
     "output_type": "stream",
     "text": [
      "100%|██████████| 196/196 [00:10<00:00, 17.95it/s]\n",
      "100%|██████████| 40/40 [00:01<00:00, 23.56it/s]\n"
     ]
    },
    {
     "name": "stdout",
     "output_type": "stream",
     "text": [
      "Validation Accuracy: 54.51172 %\n",
      "Epoch 40\n",
      "====================\n"
     ]
    },
    {
     "name": "stderr",
     "output_type": "stream",
     "text": [
      "100%|██████████| 196/196 [00:10<00:00, 19.50it/s]\n",
      "100%|██████████| 40/40 [00:01<00:00, 27.27it/s]\n"
     ]
    },
    {
     "name": "stdout",
     "output_type": "stream",
     "text": [
      "Validation Accuracy: 54.53125 %\n",
      "Epoch 41\n",
      "====================\n"
     ]
    },
    {
     "name": "stderr",
     "output_type": "stream",
     "text": [
      "100%|██████████| 196/196 [00:08<00:00, 22.05it/s]\n",
      "100%|██████████| 40/40 [00:01<00:00, 27.68it/s]\n"
     ]
    },
    {
     "name": "stdout",
     "output_type": "stream",
     "text": [
      "Validation Accuracy: 54.03320 %\n",
      "Epoch 42\n",
      "====================\n"
     ]
    },
    {
     "name": "stderr",
     "output_type": "stream",
     "text": [
      "100%|██████████| 196/196 [00:08<00:00, 21.78it/s]\n",
      "100%|██████████| 40/40 [00:01<00:00, 30.58it/s]\n"
     ]
    },
    {
     "name": "stdout",
     "output_type": "stream",
     "text": [
      "Validation Accuracy: 53.71094 %\n",
      "Epoch 43\n",
      "====================\n"
     ]
    },
    {
     "name": "stderr",
     "output_type": "stream",
     "text": [
      "100%|██████████| 196/196 [00:07<00:00, 25.15it/s]\n",
      "100%|██████████| 40/40 [00:01<00:00, 28.01it/s]\n"
     ]
    },
    {
     "name": "stdout",
     "output_type": "stream",
     "text": [
      "Validation Accuracy: 53.22266 %\n",
      "Epoch 44\n",
      "====================\n"
     ]
    },
    {
     "name": "stderr",
     "output_type": "stream",
     "text": [
      "100%|██████████| 196/196 [00:07<00:00, 25.20it/s]\n",
      "100%|██████████| 40/40 [00:01<00:00, 27.47it/s]\n"
     ]
    },
    {
     "name": "stdout",
     "output_type": "stream",
     "text": [
      "Validation Accuracy: 53.06641 %\n",
      "Epoch 45\n",
      "====================\n"
     ]
    },
    {
     "name": "stderr",
     "output_type": "stream",
     "text": [
      "100%|██████████| 196/196 [00:08<00:00, 21.84it/s]\n",
      "100%|██████████| 40/40 [00:01<00:00, 25.81it/s]\n"
     ]
    },
    {
     "name": "stdout",
     "output_type": "stream",
     "text": [
      "Validation Accuracy: 52.76367 %\n",
      "Epoch 46\n",
      "====================\n"
     ]
    },
    {
     "name": "stderr",
     "output_type": "stream",
     "text": [
      "100%|██████████| 196/196 [00:10<00:00, 19.57it/s]\n",
      "100%|██████████| 40/40 [00:01<00:00, 22.98it/s]\n"
     ]
    },
    {
     "name": "stdout",
     "output_type": "stream",
     "text": [
      "Validation Accuracy: 51.61133 %\n",
      "Epoch 47\n",
      "====================\n"
     ]
    },
    {
     "name": "stderr",
     "output_type": "stream",
     "text": [
      "100%|██████████| 196/196 [00:10<00:00, 18.03it/s]\n",
      "100%|██████████| 40/40 [00:01<00:00, 27.23it/s]\n"
     ]
    },
    {
     "name": "stdout",
     "output_type": "stream",
     "text": [
      "Validation Accuracy: 51.67969 %\n",
      "Epoch 48\n",
      "====================\n"
     ]
    },
    {
     "name": "stderr",
     "output_type": "stream",
     "text": [
      "100%|██████████| 196/196 [00:11<00:00, 17.50it/s]\n",
      "100%|██████████| 40/40 [00:01<00:00, 23.52it/s]\n"
     ]
    },
    {
     "name": "stdout",
     "output_type": "stream",
     "text": [
      "Validation Accuracy: 51.79688 %\n",
      "Epoch 49\n",
      "====================\n"
     ]
    },
    {
     "name": "stderr",
     "output_type": "stream",
     "text": [
      "100%|██████████| 196/196 [00:09<00:00, 20.03it/s]\n",
      "100%|██████████| 40/40 [00:01<00:00, 26.94it/s]\n"
     ]
    },
    {
     "name": "stdout",
     "output_type": "stream",
     "text": [
      "Validation Accuracy: 52.03125 %\n",
      "Epoch 50\n",
      "====================\n"
     ]
    },
    {
     "name": "stderr",
     "output_type": "stream",
     "text": [
      "100%|██████████| 196/196 [00:10<00:00, 18.91it/s]\n",
      "100%|██████████| 40/40 [00:01<00:00, 24.00it/s]\n"
     ]
    },
    {
     "name": "stdout",
     "output_type": "stream",
     "text": [
      "Validation Accuracy: 51.90430 %\n",
      "Epoch 51\n",
      "====================\n"
     ]
    },
    {
     "name": "stderr",
     "output_type": "stream",
     "text": [
      "100%|██████████| 196/196 [00:10<00:00, 17.85it/s]\n",
      "100%|██████████| 40/40 [00:01<00:00, 25.00it/s]\n"
     ]
    },
    {
     "name": "stdout",
     "output_type": "stream",
     "text": [
      "Validation Accuracy: 51.78711 %\n",
      "Epoch 52\n",
      "====================\n"
     ]
    },
    {
     "name": "stderr",
     "output_type": "stream",
     "text": [
      "100%|██████████| 196/196 [00:10<00:00, 18.19it/s]\n",
      "100%|██████████| 40/40 [00:01<00:00, 23.63it/s]\n"
     ]
    },
    {
     "name": "stdout",
     "output_type": "stream",
     "text": [
      "Validation Accuracy: 51.52344 %\n",
      "Epoch 53\n",
      "====================\n"
     ]
    },
    {
     "name": "stderr",
     "output_type": "stream",
     "text": [
      "100%|██████████| 196/196 [00:09<00:00, 21.63it/s]\n",
      "100%|██████████| 40/40 [00:01<00:00, 23.72it/s]\n"
     ]
    },
    {
     "name": "stdout",
     "output_type": "stream",
     "text": [
      "Validation Accuracy: 51.49414 %\n",
      "Epoch 54\n",
      "====================\n"
     ]
    },
    {
     "name": "stderr",
     "output_type": "stream",
     "text": [
      "100%|██████████| 196/196 [00:09<00:00, 19.60it/s]\n",
      "100%|██████████| 40/40 [00:01<00:00, 24.94it/s]\n"
     ]
    },
    {
     "name": "stdout",
     "output_type": "stream",
     "text": [
      "Validation Accuracy: 52.41211 %\n",
      "Epoch 55\n",
      "====================\n"
     ]
    },
    {
     "name": "stderr",
     "output_type": "stream",
     "text": [
      "100%|██████████| 196/196 [00:09<00:00, 20.24it/s]\n",
      "100%|██████████| 40/40 [00:01<00:00, 25.02it/s]\n"
     ]
    },
    {
     "name": "stdout",
     "output_type": "stream",
     "text": [
      "Validation Accuracy: 51.34766 %\n",
      "Epoch 56\n",
      "====================\n"
     ]
    },
    {
     "name": "stderr",
     "output_type": "stream",
     "text": [
      "100%|██████████| 196/196 [00:10<00:00, 19.37it/s]\n",
      "100%|██████████| 40/40 [00:01<00:00, 24.32it/s]\n"
     ]
    },
    {
     "name": "stdout",
     "output_type": "stream",
     "text": [
      "Validation Accuracy: 50.79102 %\n",
      "Epoch 57\n",
      "====================\n"
     ]
    },
    {
     "name": "stderr",
     "output_type": "stream",
     "text": [
      "100%|██████████| 196/196 [00:09<00:00, 19.63it/s]\n",
      "100%|██████████| 40/40 [00:01<00:00, 25.46it/s]\n"
     ]
    },
    {
     "name": "stdout",
     "output_type": "stream",
     "text": [
      "Validation Accuracy: 53.04688 %\n",
      "Epoch 58\n",
      "====================\n"
     ]
    },
    {
     "name": "stderr",
     "output_type": "stream",
     "text": [
      "100%|██████████| 196/196 [00:09<00:00, 20.23it/s]\n",
      "100%|██████████| 40/40 [00:01<00:00, 24.04it/s]\n"
     ]
    },
    {
     "name": "stdout",
     "output_type": "stream",
     "text": [
      "Validation Accuracy: 52.85156 %\n",
      "Epoch 59\n",
      "====================\n"
     ]
    },
    {
     "name": "stderr",
     "output_type": "stream",
     "text": [
      "100%|██████████| 196/196 [00:08<00:00, 21.82it/s]\n",
      "100%|██████████| 40/40 [00:01<00:00, 25.91it/s]\n"
     ]
    },
    {
     "name": "stdout",
     "output_type": "stream",
     "text": [
      "Validation Accuracy: 53.00781 %\n",
      "Epoch 60\n",
      "====================\n"
     ]
    },
    {
     "name": "stderr",
     "output_type": "stream",
     "text": [
      "100%|██████████| 196/196 [00:08<00:00, 23.42it/s]\n",
      "100%|██████████| 40/40 [00:01<00:00, 24.15it/s]\n"
     ]
    },
    {
     "name": "stdout",
     "output_type": "stream",
     "text": [
      "Validation Accuracy: 52.80274 %\n",
      "Epoch 61\n",
      "====================\n"
     ]
    },
    {
     "name": "stderr",
     "output_type": "stream",
     "text": [
      "100%|██████████| 196/196 [00:08<00:00, 23.21it/s]\n",
      "100%|██████████| 40/40 [00:01<00:00, 26.81it/s]\n"
     ]
    },
    {
     "name": "stdout",
     "output_type": "stream",
     "text": [
      "Validation Accuracy: 52.58789 %\n",
      "Epoch 62\n",
      "====================\n"
     ]
    },
    {
     "name": "stderr",
     "output_type": "stream",
     "text": [
      "100%|██████████| 196/196 [00:09<00:00, 21.19it/s]\n",
      "100%|██████████| 40/40 [00:01<00:00, 26.02it/s]\n"
     ]
    },
    {
     "name": "stdout",
     "output_type": "stream",
     "text": [
      "Validation Accuracy: 52.64649 %\n",
      "Epoch 63\n",
      "====================\n"
     ]
    },
    {
     "name": "stderr",
     "output_type": "stream",
     "text": [
      "100%|██████████| 196/196 [00:08<00:00, 21.93it/s]\n",
      "100%|██████████| 40/40 [00:01<00:00, 31.30it/s]\n"
     ]
    },
    {
     "name": "stdout",
     "output_type": "stream",
     "text": [
      "Validation Accuracy: 52.73438 %\n",
      "Epoch 64\n",
      "====================\n"
     ]
    },
    {
     "name": "stderr",
     "output_type": "stream",
     "text": [
      "100%|██████████| 196/196 [00:09<00:00, 21.38it/s]\n",
      "100%|██████████| 40/40 [00:01<00:00, 29.30it/s]\n"
     ]
    },
    {
     "name": "stdout",
     "output_type": "stream",
     "text": [
      "Validation Accuracy: 52.50977 %\n",
      "Epoch 65\n",
      "====================\n"
     ]
    },
    {
     "name": "stderr",
     "output_type": "stream",
     "text": [
      "100%|██████████| 196/196 [00:11<00:00, 17.34it/s]\n",
      "100%|██████████| 40/40 [00:01<00:00, 26.06it/s]\n"
     ]
    },
    {
     "name": "stdout",
     "output_type": "stream",
     "text": [
      "Validation Accuracy: 52.50000 %\n",
      "Epoch 66\n",
      "====================\n"
     ]
    },
    {
     "name": "stderr",
     "output_type": "stream",
     "text": [
      "100%|██████████| 196/196 [00:10<00:00, 18.52it/s]\n",
      "100%|██████████| 40/40 [00:01<00:00, 22.91it/s]\n"
     ]
    },
    {
     "name": "stdout",
     "output_type": "stream",
     "text": [
      "Validation Accuracy: 52.45118 %\n",
      "Epoch 67\n",
      "====================\n"
     ]
    },
    {
     "name": "stderr",
     "output_type": "stream",
     "text": [
      "100%|██████████| 196/196 [00:09<00:00, 19.73it/s]\n",
      "100%|██████████| 40/40 [00:01<00:00, 24.00it/s]\n"
     ]
    },
    {
     "name": "stdout",
     "output_type": "stream",
     "text": [
      "Validation Accuracy: 52.56836 %\n",
      "Epoch 68\n",
      "====================\n"
     ]
    },
    {
     "name": "stderr",
     "output_type": "stream",
     "text": [
      "100%|██████████| 196/196 [00:10<00:00, 19.46it/s]\n",
      "100%|██████████| 40/40 [00:01<00:00, 26.40it/s]\n"
     ]
    },
    {
     "name": "stdout",
     "output_type": "stream",
     "text": [
      "Validation Accuracy: 52.53906 %\n",
      "Epoch 69\n",
      "====================\n"
     ]
    },
    {
     "name": "stderr",
     "output_type": "stream",
     "text": [
      "100%|██████████| 196/196 [00:10<00:00, 18.87it/s]\n",
      "100%|██████████| 40/40 [00:01<00:00, 25.19it/s]\n"
     ]
    },
    {
     "name": "stdout",
     "output_type": "stream",
     "text": [
      "Validation Accuracy: 52.91992 %\n",
      "Epoch 70\n",
      "====================\n"
     ]
    },
    {
     "name": "stderr",
     "output_type": "stream",
     "text": [
      "100%|██████████| 196/196 [00:10<00:00, 18.72it/s]\n",
      "100%|██████████| 40/40 [00:01<00:00, 29.09it/s]\n"
     ]
    },
    {
     "name": "stdout",
     "output_type": "stream",
     "text": [
      "Validation Accuracy: 52.70508 %\n",
      "Epoch 71\n",
      "====================\n"
     ]
    },
    {
     "name": "stderr",
     "output_type": "stream",
     "text": [
      "100%|██████████| 196/196 [00:10<00:00, 18.51it/s]\n",
      "100%|██████████| 40/40 [00:01<00:00, 24.95it/s]\n"
     ]
    },
    {
     "name": "stdout",
     "output_type": "stream",
     "text": [
      "Validation Accuracy: 52.71484 %\n",
      "Epoch 72\n",
      "====================\n"
     ]
    },
    {
     "name": "stderr",
     "output_type": "stream",
     "text": [
      "100%|██████████| 196/196 [00:10<00:00, 18.18it/s]\n",
      "100%|██████████| 40/40 [00:01<00:00, 28.29it/s]\n"
     ]
    },
    {
     "name": "stdout",
     "output_type": "stream",
     "text": [
      "Validation Accuracy: 51.77734 %\n",
      "Epoch 73\n",
      "====================\n"
     ]
    },
    {
     "name": "stderr",
     "output_type": "stream",
     "text": [
      "100%|██████████| 196/196 [00:09<00:00, 20.18it/s]\n",
      "100%|██████████| 40/40 [00:01<00:00, 31.72it/s]\n"
     ]
    },
    {
     "name": "stdout",
     "output_type": "stream",
     "text": [
      "Validation Accuracy: 50.19531 %\n",
      "Epoch 74\n",
      "====================\n"
     ]
    },
    {
     "name": "stderr",
     "output_type": "stream",
     "text": [
      "100%|██████████| 196/196 [00:08<00:00, 22.49it/s]\n",
      "100%|██████████| 40/40 [00:01<00:00, 23.98it/s]\n"
     ]
    },
    {
     "name": "stdout",
     "output_type": "stream",
     "text": [
      "Validation Accuracy: 51.40625 %\n",
      "Epoch 75\n",
      "====================\n"
     ]
    },
    {
     "name": "stderr",
     "output_type": "stream",
     "text": [
      "100%|██████████| 196/196 [00:08<00:00, 22.51it/s]\n",
      "100%|██████████| 40/40 [00:01<00:00, 25.46it/s]\n"
     ]
    },
    {
     "name": "stdout",
     "output_type": "stream",
     "text": [
      "Validation Accuracy: 51.14258 %\n",
      "Epoch 76\n",
      "====================\n"
     ]
    },
    {
     "name": "stderr",
     "output_type": "stream",
     "text": [
      "100%|██████████| 196/196 [00:09<00:00, 21.34it/s]\n",
      "100%|██████████| 40/40 [00:01<00:00, 24.25it/s]\n"
     ]
    },
    {
     "name": "stdout",
     "output_type": "stream",
     "text": [
      "Validation Accuracy: 50.98633 %\n",
      "Epoch 77\n",
      "====================\n"
     ]
    },
    {
     "name": "stderr",
     "output_type": "stream",
     "text": [
      "100%|██████████| 196/196 [00:08<00:00, 23.55it/s]\n",
      "100%|██████████| 40/40 [00:01<00:00, 26.60it/s]\n"
     ]
    },
    {
     "name": "stdout",
     "output_type": "stream",
     "text": [
      "Validation Accuracy: 51.16211 %\n",
      "Epoch 78\n",
      "====================\n"
     ]
    },
    {
     "name": "stderr",
     "output_type": "stream",
     "text": [
      "100%|██████████| 196/196 [00:08<00:00, 22.67it/s]\n",
      "100%|██████████| 40/40 [00:01<00:00, 27.25it/s]\n"
     ]
    },
    {
     "name": "stdout",
     "output_type": "stream",
     "text": [
      "Validation Accuracy: 51.40625 %\n",
      "Epoch 79\n",
      "====================\n"
     ]
    },
    {
     "name": "stderr",
     "output_type": "stream",
     "text": [
      "100%|██████████| 196/196 [00:10<00:00, 19.12it/s]\n",
      "100%|██████████| 40/40 [00:01<00:00, 27.82it/s]\n"
     ]
    },
    {
     "name": "stdout",
     "output_type": "stream",
     "text": [
      "Validation Accuracy: 51.20117 %\n",
      "Epoch 80\n",
      "====================\n"
     ]
    },
    {
     "name": "stderr",
     "output_type": "stream",
     "text": [
      "100%|██████████| 196/196 [00:09<00:00, 20.56it/s]\n",
      "100%|██████████| 40/40 [00:01<00:00, 27.47it/s]\n"
     ]
    },
    {
     "name": "stdout",
     "output_type": "stream",
     "text": [
      "Validation Accuracy: 51.08399 %\n",
      "Epoch 81\n",
      "====================\n"
     ]
    },
    {
     "name": "stderr",
     "output_type": "stream",
     "text": [
      "100%|██████████| 196/196 [00:09<00:00, 19.62it/s]\n",
      "100%|██████████| 40/40 [00:01<00:00, 23.47it/s]\n"
     ]
    },
    {
     "name": "stdout",
     "output_type": "stream",
     "text": [
      "Validation Accuracy: 50.12695 %\n",
      "Epoch 82\n",
      "====================\n"
     ]
    },
    {
     "name": "stderr",
     "output_type": "stream",
     "text": [
      "100%|██████████| 196/196 [00:10<00:00, 18.85it/s]\n",
      "100%|██████████| 40/40 [00:01<00:00, 24.91it/s]\n"
     ]
    },
    {
     "name": "stdout",
     "output_type": "stream",
     "text": [
      "Validation Accuracy: 49.64844 %\n",
      "Epoch 83\n",
      "====================\n"
     ]
    },
    {
     "name": "stderr",
     "output_type": "stream",
     "text": [
      "100%|██████████| 196/196 [00:09<00:00, 20.10it/s]\n",
      "100%|██████████| 40/40 [00:01<00:00, 25.56it/s]\n"
     ]
    },
    {
     "name": "stdout",
     "output_type": "stream",
     "text": [
      "Validation Accuracy: 49.44336 %\n",
      "Epoch 84\n",
      "====================\n"
     ]
    },
    {
     "name": "stderr",
     "output_type": "stream",
     "text": [
      "100%|██████████| 196/196 [00:09<00:00, 20.47it/s]\n",
      "100%|██████████| 40/40 [00:01<00:00, 27.42it/s]\n"
     ]
    },
    {
     "name": "stdout",
     "output_type": "stream",
     "text": [
      "Validation Accuracy: 50.05860 %\n",
      "Epoch 85\n",
      "====================\n"
     ]
    },
    {
     "name": "stderr",
     "output_type": "stream",
     "text": [
      "100%|██████████| 196/196 [00:11<00:00, 17.74it/s]\n",
      "100%|██████████| 40/40 [00:01<00:00, 26.63it/s]\n"
     ]
    },
    {
     "name": "stdout",
     "output_type": "stream",
     "text": [
      "Validation Accuracy: 49.95117 %\n",
      "Epoch 86\n",
      "====================\n"
     ]
    },
    {
     "name": "stderr",
     "output_type": "stream",
     "text": [
      "100%|██████████| 196/196 [00:10<00:00, 19.41it/s]\n",
      "100%|██████████| 40/40 [00:01<00:00, 26.28it/s]\n"
     ]
    },
    {
     "name": "stdout",
     "output_type": "stream",
     "text": [
      "Validation Accuracy: 49.76563 %\n",
      "Epoch 87\n",
      "====================\n"
     ]
    },
    {
     "name": "stderr",
     "output_type": "stream",
     "text": [
      "100%|██████████| 196/196 [00:10<00:00, 18.93it/s]\n",
      "100%|██████████| 40/40 [00:01<00:00, 24.30it/s]\n"
     ]
    },
    {
     "name": "stdout",
     "output_type": "stream",
     "text": [
      "Validation Accuracy: 50.24414 %\n",
      "Epoch 88\n",
      "====================\n"
     ]
    },
    {
     "name": "stderr",
     "output_type": "stream",
     "text": [
      "100%|██████████| 196/196 [00:09<00:00, 20.73it/s]\n",
      "100%|██████████| 40/40 [00:01<00:00, 24.54it/s]\n"
     ]
    },
    {
     "name": "stdout",
     "output_type": "stream",
     "text": [
      "Validation Accuracy: 51.99219 %\n",
      "Epoch 89\n",
      "====================\n"
     ]
    },
    {
     "name": "stderr",
     "output_type": "stream",
     "text": [
      "100%|██████████| 196/196 [00:09<00:00, 19.62it/s]\n",
      "100%|██████████| 40/40 [00:01<00:00, 25.31it/s]\n"
     ]
    },
    {
     "name": "stdout",
     "output_type": "stream",
     "text": [
      "Validation Accuracy: 53.66211 %\n",
      "Epoch 90\n",
      "====================\n"
     ]
    },
    {
     "name": "stderr",
     "output_type": "stream",
     "text": [
      "100%|██████████| 196/196 [00:10<00:00, 19.42it/s]\n",
      "100%|██████████| 40/40 [00:01<00:00, 25.92it/s]\n"
     ]
    },
    {
     "name": "stdout",
     "output_type": "stream",
     "text": [
      "Validation Accuracy: 52.84180 %\n",
      "Epoch 91\n",
      "====================\n"
     ]
    },
    {
     "name": "stderr",
     "output_type": "stream",
     "text": [
      "100%|██████████| 196/196 [00:09<00:00, 19.62it/s]\n",
      "100%|██████████| 40/40 [00:01<00:00, 23.30it/s]\n"
     ]
    },
    {
     "name": "stdout",
     "output_type": "stream",
     "text": [
      "Validation Accuracy: 52.22656 %\n",
      "Epoch 92\n",
      "====================\n"
     ]
    },
    {
     "name": "stderr",
     "output_type": "stream",
     "text": [
      "100%|██████████| 196/196 [00:09<00:00, 20.77it/s]\n",
      "100%|██████████| 40/40 [00:01<00:00, 25.99it/s]\n"
     ]
    },
    {
     "name": "stdout",
     "output_type": "stream",
     "text": [
      "Validation Accuracy: 51.86524 %\n",
      "Epoch 93\n",
      "====================\n"
     ]
    },
    {
     "name": "stderr",
     "output_type": "stream",
     "text": [
      "100%|██████████| 196/196 [00:08<00:00, 23.01it/s]\n",
      "100%|██████████| 40/40 [00:01<00:00, 26.39it/s]\n"
     ]
    },
    {
     "name": "stdout",
     "output_type": "stream",
     "text": [
      "Validation Accuracy: 51.15234 %\n",
      "Epoch 94\n",
      "====================\n"
     ]
    },
    {
     "name": "stderr",
     "output_type": "stream",
     "text": [
      "100%|██████████| 196/196 [00:08<00:00, 23.41it/s]\n",
      "100%|██████████| 40/40 [00:01<00:00, 28.05it/s]\n"
     ]
    },
    {
     "name": "stdout",
     "output_type": "stream",
     "text": [
      "Validation Accuracy: 50.64453 %\n",
      "Epoch 95\n",
      "====================\n"
     ]
    },
    {
     "name": "stderr",
     "output_type": "stream",
     "text": [
      "100%|██████████| 196/196 [00:07<00:00, 26.94it/s]\n",
      "100%|██████████| 40/40 [00:01<00:00, 27.59it/s]\n"
     ]
    },
    {
     "name": "stdout",
     "output_type": "stream",
     "text": [
      "Validation Accuracy: 50.53711 %\n",
      "Epoch 96\n",
      "====================\n"
     ]
    },
    {
     "name": "stderr",
     "output_type": "stream",
     "text": [
      "100%|██████████| 196/196 [00:09<00:00, 21.13it/s]\n",
      "100%|██████████| 40/40 [00:01<00:00, 26.11it/s]\n"
     ]
    },
    {
     "name": "stdout",
     "output_type": "stream",
     "text": [
      "Validation Accuracy: 50.77149 %\n",
      "Epoch 97\n",
      "====================\n"
     ]
    },
    {
     "name": "stderr",
     "output_type": "stream",
     "text": [
      "100%|██████████| 196/196 [00:08<00:00, 22.05it/s]\n",
      "100%|██████████| 40/40 [00:01<00:00, 25.14it/s]\n"
     ]
    },
    {
     "name": "stdout",
     "output_type": "stream",
     "text": [
      "Validation Accuracy: 50.63477 %\n",
      "Epoch 98\n",
      "====================\n"
     ]
    },
    {
     "name": "stderr",
     "output_type": "stream",
     "text": [
      "100%|██████████| 196/196 [00:09<00:00, 20.33it/s]\n",
      "100%|██████████| 40/40 [00:01<00:00, 22.79it/s]\n"
     ]
    },
    {
     "name": "stdout",
     "output_type": "stream",
     "text": [
      "Validation Accuracy: 50.61523 %\n",
      "Epoch 99\n",
      "====================\n"
     ]
    },
    {
     "name": "stderr",
     "output_type": "stream",
     "text": [
      "100%|██████████| 196/196 [00:11<00:00, 17.69it/s]\n",
      "100%|██████████| 40/40 [00:01<00:00, 24.10it/s]\n"
     ]
    },
    {
     "name": "stdout",
     "output_type": "stream",
     "text": [
      "Validation Accuracy: 51.06446 %\n",
      "Epoch 100\n",
      "====================\n"
     ]
    },
    {
     "name": "stderr",
     "output_type": "stream",
     "text": [
      "100%|██████████| 196/196 [00:10<00:00, 18.26it/s]\n",
      "100%|██████████| 40/40 [00:01<00:00, 24.36it/s]"
     ]
    },
    {
     "name": "stdout",
     "output_type": "stream",
     "text": [
      "Validation Accuracy: 50.02930 %\n"
     ]
    },
    {
     "name": "stderr",
     "output_type": "stream",
     "text": [
      "\n"
     ]
    }
   ],
   "source": [
    "# Model 학습\n",
    "\n",
    "# 최대 학습 에폭까지 루프 수행\n",
    "for t in range(max_epochs):\n",
    "    print(f\"Epoch {t+1}\")\n",
    "    print(\"=\" * 20)\n",
    "    \n",
    "    # 학습 함수를 호출하여 학습 진행하고 손실 및 정확도 기록\n",
    "    train_loss, train_acc = train(train_loader, model, loss_fn, optimizer, metric)\n",
    "    \n",
    "    # 검증 함수를 호출하여 테스트 데이터에 대한 손실 및 정확도 기록\n",
    "    val_loss, val_acc = validation(test_loader, model, loss_fn, metric)\n",
    "    \n",
    "    # 검증 정확도 출력\n",
    "    print(\"Validation Accuracy: {:.5f} %\".format(val_acc * 100))\n",
    "    \n",
    "    # 학습 과정의 손실과 정확도를 history 딕셔너리에 기록\n",
    "    history[\"loss\"].append(train_loss)\n",
    "    history[\"accuracy\"].append(train_acc)\n",
    "    history[\"val_loss\"].append(val_loss)\n",
    "    history[\"val_accuracy\"].append(val_acc)\n",
    "\n",
    "# 학습이 완료된 모델의 파라미터를 파일로 저장\n",
    "torch.save(model.state_dict(), \"cifar10.pth\")"
   ]
  },
  {
   "cell_type": "code",
   "execution_count": 10,
   "id": "63354df0",
   "metadata": {},
   "outputs": [
    {
     "name": "stderr",
     "output_type": "stream",
     "text": [
      "100%|██████████| 40/40 [00:01<00:00, 25.24it/s]\n"
     ]
    },
    {
     "name": "stdout",
     "output_type": "stream",
     "text": [
      "Accuracy: 50.02930 %\n"
     ]
    },
    {
     "data": {
      "image/png": "[encoded data removed]",
      "text/plain": [
       "<Figure size 640x480 with 1 Axes>"
      ]
     },
     "metadata": {},
     "output_type": "display_data"
    },
    {
     "data": {
      "image/png": "[encoded data removed]",
      "text/plain": [
       "<Figure size 640x480 with 1 Axes>"
      ]
     },
     "metadata": {},
     "output_type": "display_data"
    }
   ],
   "source": [
    "# 미리 학습된 모델 불러오기\n",
    "model = SequentialModel().to(device)\n",
    "model.load_state_dict(torch.load(\"cifar10.pth\"))\n",
    "\n",
    "# 테스트 데이터에 대한 정확도 평가\n",
    "test_accuracy = test(test_loader, model, loss_fn, metric)\n",
    "print(\"Accuracy: {:.5f} %\".format(test_accuracy * 100))\n",
    "\n",
    "# 정확도 그래프 출력\n",
    "plt.plot(history[\"accuracy\"], label=\"Train Accuracy\")\n",
    "plt.plot(history[\"val_accuracy\"], label=\"Test Accuracy\")\n",
    "plt.title(\"Accuracy Over Epochs\")\n",
    "plt.xlabel(\"Epochs\")\n",
    "plt.ylabel(\"Accuracy\")\n",
    "plt.legend()\n",
    "plt.show()\n",
    "\n",
    "# 손실 그래프 출력\n",
    "plt.plot(history[\"loss\"], label=\"Train Loss\")\n",
    "plt.plot(history[\"val_loss\"], label=\"Test Loss\")\n",
    "plt.title(\"Loss Over Epochs\")\n",
    "plt.xlabel(\"Epochs\")\n",
    "plt.ylabel(\"Loss\")\n",
    "plt.legend()\n",
    "plt.show()"
   ]
  },
  {
   "cell_type": "code",
   "execution_count": null,
   "id": "68d75936-9110-438d-a05c-4cd7d1c0068b",
   "metadata": {},
   "outputs": [],
   "source": []
  },
  {
   "cell_type": "code",
   "execution_count": null,
   "id": "36447ab3-c71c-40c9-b39b-9e8dbc61b5ca",
   "metadata": {},
   "outputs": [],
   "source": []
  }
 ],
 "metadata": {
  "kernelspec": {
   "display_name": "Python 3 (ipykernel)",
   "language": "python",
   "name": "python3"
  },
  "language_info": {
   "codemirror_mode": {
    "name": "ipython",
    "version": 3
   },
   "file_extension": ".py",
   "mimetype": "text/x-python",
   "name": "python",
   "nbconvert_exporter": "python",
   "pygments_lexer": "ipython3",
   "version": "3.8.18"
  }
 },
 "nbformat": 4,
 "nbformat_minor": 5
}
