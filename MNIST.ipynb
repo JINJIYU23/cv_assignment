{
 "cells": [
  {
   "cell_type": "code",
   "execution_count": 2,
   "id": "a086ebab",
   "metadata": {},
   "outputs": [
    {
     "name": "stdout",
     "output_type": "stream",
     "text": [
      "operates on the cuda\n"
     ]
    }
   ],
   "source": [
    "import torch\n",
    "import torch.nn as nn\n",
    "\n",
    "from torchvision.datasets import MNIST\n",
    "from torch.utils.data import DataLoader\n",
    "\n",
    "from torchvision.transforms import ToTensor\n",
    "\n",
    "import matplotlib.pyplot as plt\n",
    "\n",
    "from torchmetrics import Accuracy\n",
    "from tqdm import tqdm\n",
    "\n",
    "# GPU가 이용 가능한 경우 \"cuda\", 그렇지 않으면 \"cpu\"로 설정\n",
    "device = \"cuda\" if torch.cuda.is_available() else \"cpu\"\n",
    "\n",
    "print(\"operates on the {}\".format(device))"
   ]
  },
  {
   "cell_type": "code",
   "execution_count": 3,
   "id": "827f4296",
   "metadata": {},
   "outputs": [],
   "source": [
    "# MLP Model\n",
    "class SequentialModel(nn.Module):\n",
    "    def __init__(self):\n",
    "        super().__init__()\n",
    "        self.reshape = nn.Flatten()\n",
    "        self.model = nn.Sequential(\n",
    "            nn.Linear(784, 1024),  # 입력 특성 784, 출력 특성 1024인 선형 레이어\n",
    "            nn.ReLU(),  # ReLU 활성화 함수\n",
    "            nn.Linear(1024, 512),  # 입력 특성 1024, 출력 특성 512인 선형 레이어\n",
    "            nn.ReLU(),  # ReLU 활성화 함수\n",
    "            nn.Linear(512, 512),  # 입력 특성 512, 출력 특성 512인 선형 레이어\n",
    "            nn.ReLU(),  # ReLU 활성화 함수\n",
    "            nn.Linear(512, 10),  # 입력 특성 512, 출력 특성 10인 선형 레이어\n",
    "        )\n",
    "\n",
    "    def forward(self, x):\n",
    "        # 이미지를 일차원으로 펼침\n",
    "        x = self.reshape(x)\n",
    "        # MLP 모델에 입력 데이터를 전달하여 출력을 계산\n",
    "        x = self.model(x)\n",
    "        return x"
   ]
  },
  {
   "cell_type": "code",
   "execution_count": 4,
   "id": "e84b64fd",
   "metadata": {},
   "outputs": [],
   "source": [
    "def train(dataloader, model, loss_fn, optimizer, metric):\n",
    "    # 데이터셋의 크기와 배치 크기 가져오기\n",
    "    size = len(dataloader.dataset)\n",
    "    batch_size = len(dataloader)\n",
    "    \n",
    "    # 손실과 정확도를 저장할 변수 초기화\n",
    "    total_loss = 0\n",
    "    acc_list = []\n",
    "    \n",
    "    # 모델을 학습 모드로 설정\n",
    "    model.train()\n",
    "    \n",
    "    # 각 배치에 대해 학습 진행\n",
    "    for batch, (x, y) in enumerate(tqdm(dataloader)):\n",
    "        # GPU가 사용 가능한 경우 데이터를 GPU로 이동\n",
    "        if torch.cuda.is_available():\n",
    "            x = x.to(device)\n",
    "            y = y.to(device)\n",
    "        \n",
    "        # 모델에 입력 데이터 전달하여 예측값 계산\n",
    "        y_pred = model(x)\n",
    "        \n",
    "        # 손실 계산\n",
    "        loss = loss_fn(y_pred, y)\n",
    "        total_loss += loss.item()\n",
    "        \n",
    "        # 정확도 계산\n",
    "        acc = metric(y_pred, y)\n",
    "        acc_list.append(acc)\n",
    "        \n",
    "        # 그래디언트 초기화, 역전파, 최적화 수행\n",
    "        optimizer.zero_grad()\n",
    "        loss.backward()\n",
    "        optimizer.step()\n",
    "    \n",
    "    # 배치 크기로 나누어 평균 손실과 정확도 계산\n",
    "    total_loss /= batch_size\n",
    "    total_acc = torch.tensor(acc_list).to(device).mean().item()\n",
    "    \n",
    "    # 학습 결과 반환\n",
    "    return total_loss, total_acc"
   ]
  },
  {
   "cell_type": "code",
   "execution_count": 5,
   "id": "85e95af4",
   "metadata": {},
   "outputs": [],
   "source": [
    "def train(dataloader, model, loss_fn, optimizer, metric):\n",
    "    # 데이터셋의 크기와 배치 크기 가져오기\n",
    "    size = len(dataloader.dataset)\n",
    "    batch_size = len(dataloader)\n",
    "    \n",
    "    # 손실과 정확도를 저장할 변수 초기화\n",
    "    total_loss = 0\n",
    "    acc_list = []\n",
    "    \n",
    "    # 모델을 학습 모드로 설정\n",
    "    model.train()\n",
    "    \n",
    "    # 각 배치에 대해 학습 진행\n",
    "    for batch, (x, y) in enumerate(tqdm(dataloader)):\n",
    "        # GPU가 사용 가능한 경우 데이터를 GPU로 이동\n",
    "        if torch.cuda.is_available():\n",
    "            x = x.to(device)\n",
    "            y = y.to(device)\n",
    "        \n",
    "        # 모델에 입력 데이터 전달하여 예측값 계산\n",
    "        y_pred = model(x)\n",
    "        \n",
    "        # 손실 계산\n",
    "        loss = loss_fn(y_pred, y)\n",
    "        total_loss += loss.item()\n",
    "        \n",
    "        # 정확도 계산\n",
    "        acc = metric(y_pred, y)\n",
    "        acc_list.append(acc)\n",
    "        \n",
    "        # 그래디언트 초기화, 역전파, 최적화 수행\n",
    "        optimizer.zero_grad()\n",
    "        loss.backward()\n",
    "        optimizer.step()\n",
    "    \n",
    "    # 배치 크기로 나누어 평균 손실과 정확도 계산\n",
    "    total_loss /= batch_size\n",
    "    total_acc = torch.tensor(acc_list).to(device).mean().item()\n",
    "    \n",
    "    # 학습 결과 반환\n",
    "    return total_loss, total_acc"
   ]
  },
  {
   "cell_type": "code",
   "execution_count": 6,
   "id": "fb64094c-7bd9-4dfc-a7ce-d4248d3a5ff9",
   "metadata": {},
   "outputs": [],
   "source": [
    "def validation(dataloader, model, loss_fn, metric):\n",
    "    # 데이터셋의 크기와 배치 크기 가져오기\n",
    "    size = len(dataloader.dataset)\n",
    "    batch_size = len(dataloader)\n",
    "    \n",
    "    # 손실과 정확도를 저장할 변수 초기화\n",
    "    total_loss = 0\n",
    "    acc_list = []\n",
    "    \n",
    "    # 모델을 평가 모드로 설정\n",
    "    model.eval()\n",
    "    \n",
    "    # 그래디언트 계산을 비활성화한 상태에서 평가 진행\n",
    "    with torch.no_grad():\n",
    "        for x, y in tqdm(dataloader):\n",
    "            # GPU가 사용 가능한 경우 데이터를 GPU로 이동\n",
    "            if torch.cuda.is_available():\n",
    "                x = x.to(device)\n",
    "                y = y.to(device)\n",
    "            \n",
    "            # 모델에 입력 데이터 전달하여 예측값 계산\n",
    "            y_pred = model(x)\n",
    "            \n",
    "            # 손실 계산\n",
    "            loss = loss_fn(y_pred, y)\n",
    "            total_loss += loss.item()\n",
    "\n",
    "            # 정확도 계산\n",
    "            acc = metric(y_pred, y)\n",
    "            acc_list.append(acc)\n",
    "            \n",
    "    # 배치 크기로 나누어 평균 손실과 정확도 계산\n",
    "    total_loss /= batch_size\n",
    "    total_acc = torch.tensor(acc_list).to(device).mean().item()\n",
    "    \n",
    "    # 평가 결과 반환\n",
    "    return total_loss, total_acc\n"
   ]
  },
  {
   "cell_type": "code",
   "execution_count": 7,
   "id": "3f443d1c",
   "metadata": {},
   "outputs": [],
   "source": [
    "def test(dataloader, model, loss_fn, metric):\n",
    "    # validation 함수를 이용하여 테스트 데이터에 대한 정확도 평가\n",
    "    _, mean_acc = validation(dataloader, model, loss_fn, metric)\n",
    "    \n",
    "    # 평균 정확도 반환\n",
    "    return mean_acc"
   ]
  },
  {
   "cell_type": "code",
   "execution_count": 8,
   "id": "fb245afc",
   "metadata": {},
   "outputs": [],
   "source": [
    "# 데이터셋 불러오기\n",
    "\n",
    "# MNIST 데이터셋의 학습 데이터를 불러와서 ToTensor() 변환을 적용하여 텐서로 변환\n",
    "train_data = MNIST(root=\"data\", train=True, transform=ToTensor(), download=True)\n",
    "\n",
    "# MNIST 데이터셋의 학습 데이터를 불러와서 ToTensor() 변환을 적용하여 텐서로 변환\n",
    "test_data = MNIST(root=\"data\", train=False, transform=ToTensor(), download=True)\n",
    "\n",
    "# 학습 데이터로 사용할 DataLoader 생성 (배치 크기: 256)\n",
    "train_loader = DataLoader(train_data, batch_size=256)\n",
    "\n",
    "# 테스트 데이터로 사용할 DataLoader 생성 (배치 크기: 256)\n",
    "test_loader = DataLoader(test_data, batch_size=256)"
   ]
  },
  {
   "cell_type": "code",
   "execution_count": 9,
   "id": "ca3fcf17",
   "metadata": {},
   "outputs": [],
   "source": [
    "# 모델 하이퍼 파라미터 정의\n",
    "\n",
    "# SequentialModel 클래스를 이용하여 모델 초기화 및 GPU 사용 설정\n",
    "model = SequentialModel().to(device)\n",
    "\n",
    "# CrossEntropyLoss를 사용한 손실 함수 정의\n",
    "loss_fn = nn.CrossEntropyLoss()\n",
    "\n",
    "# Adam 옵티마이저를 사용하여 최적화 설정 (학습률: 0.0001)\n",
    "optimizer = torch.optim.Adam(model.parameters(), lr=0.0001)\n",
    "\n",
    "# Accuracy 메트릭을 사용하여 다중 클래스 분류 정확도 평가 (클래스 수: 10)\n",
    "metric = Accuracy(task=\"multiclass\", num_classes=10).to(device)\n",
    "\n",
    "# 최대 학습 에폭 설정\n",
    "max_epochs = 100\n",
    "\n",
    "# 학습 과정에서 기록할 히스토리 변수 초기화\n",
    "history = {\n",
    "    \"loss\": [],          # 학습 손실 기록\n",
    "    \"accuracy\": [],      # 학습 정확도 기록\n",
    "    \"val_loss\": [],      # 검증 손실 기록\n",
    "    \"val_accuracy\": [],  # 검증 정확도 기록\n",
    "}"
   ]
  },
  {
   "cell_type": "code",
   "execution_count": 10,
   "id": "aaedcee5",
   "metadata": {
    "scrolled": true
   },
   "outputs": [
    {
     "name": "stdout",
     "output_type": "stream",
     "text": [
      "Epoch 1\n",
      "====================\n"
     ]
    },
    {
     "name": "stderr",
     "output_type": "stream",
     "text": [
      "100%|██████████| 235/235 [00:07<00:00, 30.91it/s]\n",
      "100%|██████████| 40/40 [00:00<00:00, 43.46it/s]\n"
     ]
    },
    {
     "name": "stdout",
     "output_type": "stream",
     "text": [
      "Validation Accuracy: 91.07422 %\n",
      "Epoch 2\n",
      "====================\n"
     ]
    },
    {
     "name": "stderr",
     "output_type": "stream",
     "text": [
      "100%|██████████| 235/235 [00:06<00:00, 36.11it/s]\n",
      "100%|██████████| 40/40 [00:00<00:00, 40.70it/s]\n"
     ]
    },
    {
     "name": "stdout",
     "output_type": "stream",
     "text": [
      "Validation Accuracy: 93.42774 %\n",
      "Epoch 3\n",
      "====================\n"
     ]
    },
    {
     "name": "stderr",
     "output_type": "stream",
     "text": [
      "100%|██████████| 235/235 [00:06<00:00, 36.39it/s]\n",
      "100%|██████████| 40/40 [00:00<00:00, 42.73it/s]\n"
     ]
    },
    {
     "name": "stdout",
     "output_type": "stream",
     "text": [
      "Validation Accuracy: 94.55078 %\n",
      "Epoch 4\n",
      "====================\n"
     ]
    },
    {
     "name": "stderr",
     "output_type": "stream",
     "text": [
      "100%|██████████| 235/235 [00:06<00:00, 35.28it/s]\n",
      "100%|██████████| 40/40 [00:00<00:00, 40.85it/s]\n"
     ]
    },
    {
     "name": "stdout",
     "output_type": "stream",
     "text": [
      "Validation Accuracy: 95.61524 %\n",
      "Epoch 5\n",
      "====================\n"
     ]
    },
    {
     "name": "stderr",
     "output_type": "stream",
     "text": [
      "100%|██████████| 235/235 [00:06<00:00, 35.89it/s]\n",
      "100%|██████████| 40/40 [00:00<00:00, 43.61it/s]\n"
     ]
    },
    {
     "name": "stdout",
     "output_type": "stream",
     "text": [
      "Validation Accuracy: 96.14258 %\n",
      "Epoch 6\n",
      "====================\n"
     ]
    },
    {
     "name": "stderr",
     "output_type": "stream",
     "text": [
      "100%|██████████| 235/235 [00:06<00:00, 35.80it/s]\n",
      "100%|██████████| 40/40 [00:01<00:00, 38.88it/s]\n"
     ]
    },
    {
     "name": "stdout",
     "output_type": "stream",
     "text": [
      "Validation Accuracy: 96.44532 %\n",
      "Epoch 7\n",
      "====================\n"
     ]
    },
    {
     "name": "stderr",
     "output_type": "stream",
     "text": [
      "100%|██████████| 235/235 [00:06<00:00, 35.64it/s]\n",
      "100%|██████████| 40/40 [00:00<00:00, 42.17it/s]\n"
     ]
    },
    {
     "name": "stdout",
     "output_type": "stream",
     "text": [
      "Validation Accuracy: 96.69922 %\n",
      "Epoch 8\n",
      "====================\n"
     ]
    },
    {
     "name": "stderr",
     "output_type": "stream",
     "text": [
      "100%|██████████| 235/235 [00:06<00:00, 34.59it/s]\n",
      "100%|██████████| 40/40 [00:00<00:00, 41.56it/s]\n"
     ]
    },
    {
     "name": "stdout",
     "output_type": "stream",
     "text": [
      "Validation Accuracy: 97.01172 %\n",
      "Epoch 9\n",
      "====================\n"
     ]
    },
    {
     "name": "stderr",
     "output_type": "stream",
     "text": [
      "100%|██████████| 235/235 [00:06<00:00, 36.26it/s]\n",
      "100%|██████████| 40/40 [00:00<00:00, 41.19it/s]\n"
     ]
    },
    {
     "name": "stdout",
     "output_type": "stream",
     "text": [
      "Validation Accuracy: 97.26562 %\n",
      "Epoch 10\n",
      "====================\n"
     ]
    },
    {
     "name": "stderr",
     "output_type": "stream",
     "text": [
      "100%|██████████| 235/235 [00:06<00:00, 35.91it/s]\n",
      "100%|██████████| 40/40 [00:00<00:00, 40.39it/s]\n"
     ]
    },
    {
     "name": "stdout",
     "output_type": "stream",
     "text": [
      "Validation Accuracy: 97.47071 %\n",
      "Epoch 11\n",
      "====================\n"
     ]
    },
    {
     "name": "stderr",
     "output_type": "stream",
     "text": [
      "100%|██████████| 235/235 [00:06<00:00, 36.16it/s]\n",
      "100%|██████████| 40/40 [00:00<00:00, 40.34it/s]\n"
     ]
    },
    {
     "name": "stdout",
     "output_type": "stream",
     "text": [
      "Validation Accuracy: 97.53906 %\n",
      "Epoch 12\n",
      "====================\n"
     ]
    },
    {
     "name": "stderr",
     "output_type": "stream",
     "text": [
      "100%|██████████| 235/235 [00:06<00:00, 35.71it/s]\n",
      "100%|██████████| 40/40 [00:01<00:00, 37.34it/s]\n"
     ]
    },
    {
     "name": "stdout",
     "output_type": "stream",
     "text": [
      "Validation Accuracy: 97.55859 %\n",
      "Epoch 13\n",
      "====================\n"
     ]
    },
    {
     "name": "stderr",
     "output_type": "stream",
     "text": [
      "100%|██████████| 235/235 [00:06<00:00, 35.76it/s]\n",
      "100%|██████████| 40/40 [00:00<00:00, 40.82it/s]\n"
     ]
    },
    {
     "name": "stdout",
     "output_type": "stream",
     "text": [
      "Validation Accuracy: 97.59766 %\n",
      "Epoch 14\n",
      "====================\n"
     ]
    },
    {
     "name": "stderr",
     "output_type": "stream",
     "text": [
      "100%|██████████| 235/235 [00:06<00:00, 35.92it/s]\n",
      "100%|██████████| 40/40 [00:00<00:00, 43.17it/s]\n"
     ]
    },
    {
     "name": "stdout",
     "output_type": "stream",
     "text": [
      "Validation Accuracy: 97.64649 %\n",
      "Epoch 15\n",
      "====================\n"
     ]
    },
    {
     "name": "stderr",
     "output_type": "stream",
     "text": [
      "100%|██████████| 235/235 [00:06<00:00, 34.89it/s]\n",
      "100%|██████████| 40/40 [00:01<00:00, 39.59it/s]\n"
     ]
    },
    {
     "name": "stdout",
     "output_type": "stream",
     "text": [
      "Validation Accuracy: 97.73437 %\n",
      "Epoch 16\n",
      "====================\n"
     ]
    },
    {
     "name": "stderr",
     "output_type": "stream",
     "text": [
      "100%|██████████| 235/235 [00:06<00:00, 35.51it/s]\n",
      "100%|██████████| 40/40 [00:00<00:00, 43.88it/s]\n"
     ]
    },
    {
     "name": "stdout",
     "output_type": "stream",
     "text": [
      "Validation Accuracy: 97.73437 %\n",
      "Epoch 17\n",
      "====================\n"
     ]
    },
    {
     "name": "stderr",
     "output_type": "stream",
     "text": [
      "100%|██████████| 235/235 [00:06<00:00, 35.85it/s]\n",
      "100%|██████████| 40/40 [00:00<00:00, 42.43it/s]\n"
     ]
    },
    {
     "name": "stdout",
     "output_type": "stream",
     "text": [
      "Validation Accuracy: 97.80273 %\n",
      "Epoch 18\n",
      "====================\n"
     ]
    },
    {
     "name": "stderr",
     "output_type": "stream",
     "text": [
      "100%|██████████| 235/235 [00:06<00:00, 38.66it/s]\n",
      "100%|██████████| 40/40 [00:00<00:00, 43.65it/s]\n"
     ]
    },
    {
     "name": "stdout",
     "output_type": "stream",
     "text": [
      "Validation Accuracy: 97.83203 %\n",
      "Epoch 19\n",
      "====================\n"
     ]
    },
    {
     "name": "stderr",
     "output_type": "stream",
     "text": [
      "100%|██████████| 235/235 [00:06<00:00, 35.35it/s]\n",
      "100%|██████████| 40/40 [00:00<00:00, 41.47it/s]\n"
     ]
    },
    {
     "name": "stdout",
     "output_type": "stream",
     "text": [
      "Validation Accuracy: 97.86133 %\n",
      "Epoch 20\n",
      "====================\n"
     ]
    },
    {
     "name": "stderr",
     "output_type": "stream",
     "text": [
      "100%|██████████| 235/235 [00:06<00:00, 34.55it/s]\n",
      "100%|██████████| 40/40 [00:01<00:00, 35.42it/s]\n"
     ]
    },
    {
     "name": "stdout",
     "output_type": "stream",
     "text": [
      "Validation Accuracy: 97.80273 %\n",
      "Epoch 21\n",
      "====================\n"
     ]
    },
    {
     "name": "stderr",
     "output_type": "stream",
     "text": [
      "100%|██████████| 235/235 [00:06<00:00, 35.65it/s]\n",
      "100%|██████████| 40/40 [00:00<00:00, 42.69it/s]\n"
     ]
    },
    {
     "name": "stdout",
     "output_type": "stream",
     "text": [
      "Validation Accuracy: 97.78320 %\n",
      "Epoch 22\n",
      "====================\n"
     ]
    },
    {
     "name": "stderr",
     "output_type": "stream",
     "text": [
      "100%|██████████| 235/235 [00:06<00:00, 36.84it/s]\n",
      "100%|██████████| 40/40 [00:00<00:00, 40.05it/s]\n"
     ]
    },
    {
     "name": "stdout",
     "output_type": "stream",
     "text": [
      "Validation Accuracy: 97.79297 %\n",
      "Epoch 23\n",
      "====================\n"
     ]
    },
    {
     "name": "stderr",
     "output_type": "stream",
     "text": [
      "100%|██████████| 235/235 [00:06<00:00, 36.28it/s]\n",
      "100%|██████████| 40/40 [00:00<00:00, 40.65it/s]\n"
     ]
    },
    {
     "name": "stdout",
     "output_type": "stream",
     "text": [
      "Validation Accuracy: 97.88086 %\n",
      "Epoch 24\n",
      "====================\n"
     ]
    },
    {
     "name": "stderr",
     "output_type": "stream",
     "text": [
      "100%|██████████| 235/235 [00:06<00:00, 35.94it/s]\n",
      "100%|██████████| 40/40 [00:00<00:00, 44.10it/s]\n"
     ]
    },
    {
     "name": "stdout",
     "output_type": "stream",
     "text": [
      "Validation Accuracy: 97.95899 %\n",
      "Epoch 25\n",
      "====================\n"
     ]
    },
    {
     "name": "stderr",
     "output_type": "stream",
     "text": [
      "100%|██████████| 235/235 [00:06<00:00, 36.67it/s]\n",
      "100%|██████████| 40/40 [00:00<00:00, 43.90it/s]\n"
     ]
    },
    {
     "name": "stdout",
     "output_type": "stream",
     "text": [
      "Validation Accuracy: 97.94922 %\n",
      "Epoch 26\n",
      "====================\n"
     ]
    },
    {
     "name": "stderr",
     "output_type": "stream",
     "text": [
      "100%|██████████| 235/235 [00:06<00:00, 35.99it/s]\n",
      "100%|██████████| 40/40 [00:00<00:00, 43.95it/s]\n"
     ]
    },
    {
     "name": "stdout",
     "output_type": "stream",
     "text": [
      "Validation Accuracy: 97.89063 %\n",
      "Epoch 27\n",
      "====================\n"
     ]
    },
    {
     "name": "stderr",
     "output_type": "stream",
     "text": [
      "100%|██████████| 235/235 [00:06<00:00, 36.87it/s]\n",
      "100%|██████████| 40/40 [00:00<00:00, 44.11it/s]\n"
     ]
    },
    {
     "name": "stdout",
     "output_type": "stream",
     "text": [
      "Validation Accuracy: 97.89063 %\n",
      "Epoch 28\n",
      "====================\n"
     ]
    },
    {
     "name": "stderr",
     "output_type": "stream",
     "text": [
      "100%|██████████| 235/235 [00:06<00:00, 36.02it/s]\n",
      "100%|██████████| 40/40 [00:00<00:00, 43.20it/s]\n"
     ]
    },
    {
     "name": "stdout",
     "output_type": "stream",
     "text": [
      "Validation Accuracy: 97.87109 %\n",
      "Epoch 29\n",
      "====================\n"
     ]
    },
    {
     "name": "stderr",
     "output_type": "stream",
     "text": [
      "100%|██████████| 235/235 [00:06<00:00, 36.33it/s]\n",
      "100%|██████████| 40/40 [00:00<00:00, 40.62it/s]\n"
     ]
    },
    {
     "name": "stdout",
     "output_type": "stream",
     "text": [
      "Validation Accuracy: 97.64649 %\n",
      "Epoch 30\n",
      "====================\n"
     ]
    },
    {
     "name": "stderr",
     "output_type": "stream",
     "text": [
      "100%|██████████| 235/235 [00:06<00:00, 36.65it/s]\n",
      "100%|██████████| 40/40 [00:01<00:00, 39.42it/s]\n"
     ]
    },
    {
     "name": "stdout",
     "output_type": "stream",
     "text": [
      "Validation Accuracy: 97.84180 %\n",
      "Epoch 31\n",
      "====================\n"
     ]
    },
    {
     "name": "stderr",
     "output_type": "stream",
     "text": [
      "100%|██████████| 235/235 [00:06<00:00, 37.82it/s]\n",
      "100%|██████████| 40/40 [00:00<00:00, 43.32it/s]\n"
     ]
    },
    {
     "name": "stdout",
     "output_type": "stream",
     "text": [
      "Validation Accuracy: 97.41211 %\n",
      "Epoch 32\n",
      "====================\n"
     ]
    },
    {
     "name": "stderr",
     "output_type": "stream",
     "text": [
      "100%|██████████| 235/235 [00:06<00:00, 36.44it/s]\n",
      "100%|██████████| 40/40 [00:01<00:00, 38.53it/s]\n"
     ]
    },
    {
     "name": "stdout",
     "output_type": "stream",
     "text": [
      "Validation Accuracy: 97.97851 %\n",
      "Epoch 33\n",
      "====================\n"
     ]
    },
    {
     "name": "stderr",
     "output_type": "stream",
     "text": [
      "100%|██████████| 235/235 [00:06<00:00, 37.22it/s]\n",
      "100%|██████████| 40/40 [00:00<00:00, 40.88it/s]\n"
     ]
    },
    {
     "name": "stdout",
     "output_type": "stream",
     "text": [
      "Validation Accuracy: 98.05664 %\n",
      "Epoch 34\n",
      "====================\n"
     ]
    },
    {
     "name": "stderr",
     "output_type": "stream",
     "text": [
      "100%|██████████| 235/235 [00:06<00:00, 36.99it/s]\n",
      "100%|██████████| 40/40 [00:00<00:00, 41.79it/s]\n"
     ]
    },
    {
     "name": "stdout",
     "output_type": "stream",
     "text": [
      "Validation Accuracy: 98.16406 %\n",
      "Epoch 35\n",
      "====================\n"
     ]
    },
    {
     "name": "stderr",
     "output_type": "stream",
     "text": [
      "100%|██████████| 235/235 [00:06<00:00, 36.28it/s]\n",
      "100%|██████████| 40/40 [00:01<00:00, 38.91it/s]\n"
     ]
    },
    {
     "name": "stdout",
     "output_type": "stream",
     "text": [
      "Validation Accuracy: 98.23242 %\n",
      "Epoch 36\n",
      "====================\n"
     ]
    },
    {
     "name": "stderr",
     "output_type": "stream",
     "text": [
      "100%|██████████| 235/235 [00:06<00:00, 35.63it/s]\n",
      "100%|██████████| 40/40 [00:00<00:00, 41.40it/s]\n"
     ]
    },
    {
     "name": "stdout",
     "output_type": "stream",
     "text": [
      "Validation Accuracy: 98.28125 %\n",
      "Epoch 37\n",
      "====================\n"
     ]
    },
    {
     "name": "stderr",
     "output_type": "stream",
     "text": [
      "100%|██████████| 235/235 [00:06<00:00, 35.31it/s]\n",
      "100%|██████████| 40/40 [00:01<00:00, 38.07it/s]\n"
     ]
    },
    {
     "name": "stdout",
     "output_type": "stream",
     "text": [
      "Validation Accuracy: 98.01758 %\n",
      "Epoch 38\n",
      "====================\n"
     ]
    },
    {
     "name": "stderr",
     "output_type": "stream",
     "text": [
      "100%|██████████| 235/235 [00:06<00:00, 35.88it/s]\n",
      "100%|██████████| 40/40 [00:00<00:00, 40.75it/s]\n"
     ]
    },
    {
     "name": "stdout",
     "output_type": "stream",
     "text": [
      "Validation Accuracy: 98.13477 %\n",
      "Epoch 39\n",
      "====================\n"
     ]
    },
    {
     "name": "stderr",
     "output_type": "stream",
     "text": [
      "100%|██████████| 235/235 [00:06<00:00, 36.39it/s]\n",
      "100%|██████████| 40/40 [00:00<00:00, 43.43it/s]\n"
     ]
    },
    {
     "name": "stdout",
     "output_type": "stream",
     "text": [
      "Validation Accuracy: 98.21289 %\n",
      "Epoch 40\n",
      "====================\n"
     ]
    },
    {
     "name": "stderr",
     "output_type": "stream",
     "text": [
      "100%|██████████| 235/235 [00:06<00:00, 36.79it/s]\n",
      "100%|██████████| 40/40 [00:00<00:00, 40.91it/s]\n"
     ]
    },
    {
     "name": "stdout",
     "output_type": "stream",
     "text": [
      "Validation Accuracy: 98.17383 %\n",
      "Epoch 41\n",
      "====================\n"
     ]
    },
    {
     "name": "stderr",
     "output_type": "stream",
     "text": [
      "100%|██████████| 235/235 [00:06<00:00, 36.27it/s]\n",
      "100%|██████████| 40/40 [00:01<00:00, 38.76it/s]\n"
     ]
    },
    {
     "name": "stdout",
     "output_type": "stream",
     "text": [
      "Validation Accuracy: 98.17383 %\n",
      "Epoch 42\n",
      "====================\n"
     ]
    },
    {
     "name": "stderr",
     "output_type": "stream",
     "text": [
      "100%|██████████| 235/235 [00:06<00:00, 36.39it/s]\n",
      "100%|██████████| 40/40 [00:00<00:00, 43.70it/s]\n"
     ]
    },
    {
     "name": "stdout",
     "output_type": "stream",
     "text": [
      "Validation Accuracy: 98.19336 %\n",
      "Epoch 43\n",
      "====================\n"
     ]
    },
    {
     "name": "stderr",
     "output_type": "stream",
     "text": [
      "100%|██████████| 235/235 [00:06<00:00, 36.82it/s]\n",
      "100%|██████████| 40/40 [00:00<00:00, 40.71it/s]\n"
     ]
    },
    {
     "name": "stdout",
     "output_type": "stream",
     "text": [
      "Validation Accuracy: 98.19336 %\n",
      "Epoch 44\n",
      "====================\n"
     ]
    },
    {
     "name": "stderr",
     "output_type": "stream",
     "text": [
      "100%|██████████| 235/235 [00:06<00:00, 35.20it/s]\n",
      "100%|██████████| 40/40 [00:00<00:00, 41.30it/s]\n"
     ]
    },
    {
     "name": "stdout",
     "output_type": "stream",
     "text": [
      "Validation Accuracy: 98.18360 %\n",
      "Epoch 45\n",
      "====================\n"
     ]
    },
    {
     "name": "stderr",
     "output_type": "stream",
     "text": [
      "100%|██████████| 235/235 [00:06<00:00, 33.85it/s]\n",
      "100%|██████████| 40/40 [00:00<00:00, 41.11it/s]\n"
     ]
    },
    {
     "name": "stdout",
     "output_type": "stream",
     "text": [
      "Validation Accuracy: 98.18360 %\n",
      "Epoch 46\n",
      "====================\n"
     ]
    },
    {
     "name": "stderr",
     "output_type": "stream",
     "text": [
      "100%|██████████| 235/235 [00:06<00:00, 35.65it/s]\n",
      "100%|██████████| 40/40 [00:00<00:00, 41.02it/s]\n"
     ]
    },
    {
     "name": "stdout",
     "output_type": "stream",
     "text": [
      "Validation Accuracy: 98.19336 %\n",
      "Epoch 47\n",
      "====================\n"
     ]
    },
    {
     "name": "stderr",
     "output_type": "stream",
     "text": [
      "100%|██████████| 235/235 [00:06<00:00, 36.09it/s]\n",
      "100%|██████████| 40/40 [00:00<00:00, 44.09it/s]\n"
     ]
    },
    {
     "name": "stdout",
     "output_type": "stream",
     "text": [
      "Validation Accuracy: 98.18360 %\n",
      "Epoch 48\n",
      "====================\n"
     ]
    },
    {
     "name": "stderr",
     "output_type": "stream",
     "text": [
      "100%|██████████| 235/235 [00:06<00:00, 36.27it/s]\n",
      "100%|██████████| 40/40 [00:00<00:00, 40.14it/s]\n"
     ]
    },
    {
     "name": "stdout",
     "output_type": "stream",
     "text": [
      "Validation Accuracy: 98.17383 %\n",
      "Epoch 49\n",
      "====================\n"
     ]
    },
    {
     "name": "stderr",
     "output_type": "stream",
     "text": [
      "100%|██████████| 235/235 [00:06<00:00, 35.92it/s]\n",
      "100%|██████████| 40/40 [00:01<00:00, 38.51it/s]\n"
     ]
    },
    {
     "name": "stdout",
     "output_type": "stream",
     "text": [
      "Validation Accuracy: 98.16406 %\n",
      "Epoch 50\n",
      "====================\n"
     ]
    },
    {
     "name": "stderr",
     "output_type": "stream",
     "text": [
      "100%|██████████| 235/235 [00:06<00:00, 35.56it/s]\n",
      "100%|██████████| 40/40 [00:00<00:00, 44.00it/s]\n"
     ]
    },
    {
     "name": "stdout",
     "output_type": "stream",
     "text": [
      "Validation Accuracy: 98.17383 %\n",
      "Epoch 51\n",
      "====================\n"
     ]
    },
    {
     "name": "stderr",
     "output_type": "stream",
     "text": [
      "100%|██████████| 235/235 [00:06<00:00, 36.68it/s]\n",
      "100%|██████████| 40/40 [00:00<00:00, 43.88it/s]\n"
     ]
    },
    {
     "name": "stdout",
     "output_type": "stream",
     "text": [
      "Validation Accuracy: 98.17383 %\n",
      "Epoch 52\n",
      "====================\n"
     ]
    },
    {
     "name": "stderr",
     "output_type": "stream",
     "text": [
      "100%|██████████| 235/235 [00:06<00:00, 35.93it/s]\n",
      "100%|██████████| 40/40 [00:00<00:00, 41.19it/s]\n"
     ]
    },
    {
     "name": "stdout",
     "output_type": "stream",
     "text": [
      "Validation Accuracy: 98.17383 %\n",
      "Epoch 53\n",
      "====================\n"
     ]
    },
    {
     "name": "stderr",
     "output_type": "stream",
     "text": [
      "100%|██████████| 235/235 [00:06<00:00, 35.70it/s]\n",
      "100%|██████████| 40/40 [00:01<00:00, 39.29it/s]\n"
     ]
    },
    {
     "name": "stdout",
     "output_type": "stream",
     "text": [
      "Validation Accuracy: 98.18360 %\n",
      "Epoch 54\n",
      "====================\n"
     ]
    },
    {
     "name": "stderr",
     "output_type": "stream",
     "text": [
      "100%|██████████| 235/235 [00:06<00:00, 35.97it/s]\n",
      "100%|██████████| 40/40 [00:01<00:00, 39.40it/s]\n"
     ]
    },
    {
     "name": "stdout",
     "output_type": "stream",
     "text": [
      "Validation Accuracy: 98.17383 %\n",
      "Epoch 55\n",
      "====================\n"
     ]
    },
    {
     "name": "stderr",
     "output_type": "stream",
     "text": [
      "100%|██████████| 235/235 [00:06<00:00, 35.80it/s]\n",
      "100%|██████████| 40/40 [00:01<00:00, 38.46it/s]\n"
     ]
    },
    {
     "name": "stdout",
     "output_type": "stream",
     "text": [
      "Validation Accuracy: 98.17383 %\n",
      "Epoch 56\n",
      "====================\n"
     ]
    },
    {
     "name": "stderr",
     "output_type": "stream",
     "text": [
      "100%|██████████| 235/235 [00:06<00:00, 35.18it/s]\n",
      "100%|██████████| 40/40 [00:00<00:00, 40.65it/s]\n"
     ]
    },
    {
     "name": "stdout",
     "output_type": "stream",
     "text": [
      "Validation Accuracy: 98.18360 %\n",
      "Epoch 57\n",
      "====================\n"
     ]
    },
    {
     "name": "stderr",
     "output_type": "stream",
     "text": [
      "100%|██████████| 235/235 [00:06<00:00, 35.85it/s]\n",
      "100%|██████████| 40/40 [00:01<00:00, 39.02it/s]\n"
     ]
    },
    {
     "name": "stdout",
     "output_type": "stream",
     "text": [
      "Validation Accuracy: 98.18360 %\n",
      "Epoch 58\n",
      "====================\n"
     ]
    },
    {
     "name": "stderr",
     "output_type": "stream",
     "text": [
      "100%|██████████| 235/235 [00:06<00:00, 36.14it/s]\n",
      "100%|██████████| 40/40 [00:00<00:00, 41.58it/s]\n"
     ]
    },
    {
     "name": "stdout",
     "output_type": "stream",
     "text": [
      "Validation Accuracy: 98.18360 %\n",
      "Epoch 59\n",
      "====================\n"
     ]
    },
    {
     "name": "stderr",
     "output_type": "stream",
     "text": [
      "100%|██████████| 235/235 [00:06<00:00, 35.46it/s]\n",
      "100%|██████████| 40/40 [00:00<00:00, 40.66it/s]\n"
     ]
    },
    {
     "name": "stdout",
     "output_type": "stream",
     "text": [
      "Validation Accuracy: 98.18360 %\n",
      "Epoch 60\n",
      "====================\n"
     ]
    },
    {
     "name": "stderr",
     "output_type": "stream",
     "text": [
      "100%|██████████| 235/235 [00:06<00:00, 35.38it/s]\n",
      "100%|██████████| 40/40 [00:00<00:00, 40.72it/s]\n"
     ]
    },
    {
     "name": "stdout",
     "output_type": "stream",
     "text": [
      "Validation Accuracy: 98.18360 %\n",
      "Epoch 61\n",
      "====================\n"
     ]
    },
    {
     "name": "stderr",
     "output_type": "stream",
     "text": [
      "100%|██████████| 235/235 [00:06<00:00, 35.35it/s]\n",
      "100%|██████████| 40/40 [00:00<00:00, 41.58it/s]\n"
     ]
    },
    {
     "name": "stdout",
     "output_type": "stream",
     "text": [
      "Validation Accuracy: 98.19336 %\n",
      "Epoch 62\n",
      "====================\n"
     ]
    },
    {
     "name": "stderr",
     "output_type": "stream",
     "text": [
      "100%|██████████| 235/235 [00:06<00:00, 36.17it/s]\n",
      "100%|██████████| 40/40 [00:00<00:00, 42.19it/s]\n"
     ]
    },
    {
     "name": "stdout",
     "output_type": "stream",
     "text": [
      "Validation Accuracy: 98.18360 %\n",
      "Epoch 63\n",
      "====================\n"
     ]
    },
    {
     "name": "stderr",
     "output_type": "stream",
     "text": [
      "100%|██████████| 235/235 [00:06<00:00, 36.24it/s]\n",
      "100%|██████████| 40/40 [00:00<00:00, 43.62it/s]\n"
     ]
    },
    {
     "name": "stdout",
     "output_type": "stream",
     "text": [
      "Validation Accuracy: 98.20313 %\n",
      "Epoch 64\n",
      "====================\n"
     ]
    },
    {
     "name": "stderr",
     "output_type": "stream",
     "text": [
      "100%|██████████| 235/235 [00:06<00:00, 35.95it/s]\n",
      "100%|██████████| 40/40 [00:00<00:00, 40.58it/s]\n"
     ]
    },
    {
     "name": "stdout",
     "output_type": "stream",
     "text": [
      "Validation Accuracy: 98.20313 %\n",
      "Epoch 65\n",
      "====================\n"
     ]
    },
    {
     "name": "stderr",
     "output_type": "stream",
     "text": [
      "100%|██████████| 235/235 [00:06<00:00, 34.87it/s]\n",
      "100%|██████████| 40/40 [00:00<00:00, 44.91it/s]\n"
     ]
    },
    {
     "name": "stdout",
     "output_type": "stream",
     "text": [
      "Validation Accuracy: 98.20313 %\n",
      "Epoch 66\n",
      "====================\n"
     ]
    },
    {
     "name": "stderr",
     "output_type": "stream",
     "text": [
      "100%|██████████| 235/235 [00:06<00:00, 34.97it/s]\n",
      "100%|██████████| 40/40 [00:01<00:00, 37.77it/s]\n"
     ]
    },
    {
     "name": "stdout",
     "output_type": "stream",
     "text": [
      "Validation Accuracy: 98.20313 %\n",
      "Epoch 67\n",
      "====================\n"
     ]
    },
    {
     "name": "stderr",
     "output_type": "stream",
     "text": [
      "100%|██████████| 235/235 [00:06<00:00, 35.11it/s]\n",
      "100%|██████████| 40/40 [00:00<00:00, 40.96it/s]\n"
     ]
    },
    {
     "name": "stdout",
     "output_type": "stream",
     "text": [
      "Validation Accuracy: 98.18360 %\n",
      "Epoch 68\n",
      "====================\n"
     ]
    },
    {
     "name": "stderr",
     "output_type": "stream",
     "text": [
      "100%|██████████| 235/235 [00:06<00:00, 35.17it/s]\n",
      "100%|██████████| 40/40 [00:01<00:00, 35.23it/s]\n"
     ]
    },
    {
     "name": "stdout",
     "output_type": "stream",
     "text": [
      "Validation Accuracy: 98.19336 %\n",
      "Epoch 69\n",
      "====================\n"
     ]
    },
    {
     "name": "stderr",
     "output_type": "stream",
     "text": [
      "100%|██████████| 235/235 [00:06<00:00, 36.16it/s]\n",
      "100%|██████████| 40/40 [00:00<00:00, 40.81it/s]\n"
     ]
    },
    {
     "name": "stdout",
     "output_type": "stream",
     "text": [
      "Validation Accuracy: 98.19336 %\n",
      "Epoch 70\n",
      "====================\n"
     ]
    },
    {
     "name": "stderr",
     "output_type": "stream",
     "text": [
      "100%|██████████| 235/235 [00:06<00:00, 35.38it/s]\n",
      "100%|██████████| 40/40 [00:01<00:00, 39.62it/s]\n"
     ]
    },
    {
     "name": "stdout",
     "output_type": "stream",
     "text": [
      "Validation Accuracy: 98.19336 %\n",
      "Epoch 71\n",
      "====================\n"
     ]
    },
    {
     "name": "stderr",
     "output_type": "stream",
     "text": [
      "100%|██████████| 235/235 [00:06<00:00, 36.93it/s]\n",
      "100%|██████████| 40/40 [00:00<00:00, 43.13it/s]\n"
     ]
    },
    {
     "name": "stdout",
     "output_type": "stream",
     "text": [
      "Validation Accuracy: 98.19336 %\n",
      "Epoch 72\n",
      "====================\n"
     ]
    },
    {
     "name": "stderr",
     "output_type": "stream",
     "text": [
      "100%|██████████| 235/235 [00:06<00:00, 35.24it/s]\n",
      "100%|██████████| 40/40 [00:01<00:00, 39.71it/s]\n"
     ]
    },
    {
     "name": "stdout",
     "output_type": "stream",
     "text": [
      "Validation Accuracy: 98.19336 %\n",
      "Epoch 73\n",
      "====================\n"
     ]
    },
    {
     "name": "stderr",
     "output_type": "stream",
     "text": [
      "100%|██████████| 235/235 [00:06<00:00, 35.68it/s]\n",
      "100%|██████████| 40/40 [00:00<00:00, 41.16it/s]\n"
     ]
    },
    {
     "name": "stdout",
     "output_type": "stream",
     "text": [
      "Validation Accuracy: 98.21289 %\n",
      "Epoch 74\n",
      "====================\n"
     ]
    },
    {
     "name": "stderr",
     "output_type": "stream",
     "text": [
      "100%|██████████| 235/235 [00:06<00:00, 37.29it/s]\n",
      "100%|██████████| 40/40 [00:00<00:00, 41.25it/s]\n"
     ]
    },
    {
     "name": "stdout",
     "output_type": "stream",
     "text": [
      "Validation Accuracy: 98.22266 %\n",
      "Epoch 75\n",
      "====================\n"
     ]
    },
    {
     "name": "stderr",
     "output_type": "stream",
     "text": [
      "100%|██████████| 235/235 [00:06<00:00, 37.05it/s]\n",
      "100%|██████████| 40/40 [00:00<00:00, 43.66it/s]\n"
     ]
    },
    {
     "name": "stdout",
     "output_type": "stream",
     "text": [
      "Validation Accuracy: 98.22266 %\n",
      "Epoch 76\n",
      "====================\n"
     ]
    },
    {
     "name": "stderr",
     "output_type": "stream",
     "text": [
      "100%|██████████| 235/235 [00:06<00:00, 35.08it/s]\n",
      "100%|██████████| 40/40 [00:00<00:00, 40.04it/s]\n"
     ]
    },
    {
     "name": "stdout",
     "output_type": "stream",
     "text": [
      "Validation Accuracy: 98.22266 %\n",
      "Epoch 77\n",
      "====================\n"
     ]
    },
    {
     "name": "stderr",
     "output_type": "stream",
     "text": [
      "100%|██████████| 235/235 [00:06<00:00, 34.84it/s]\n",
      "100%|██████████| 40/40 [00:00<00:00, 42.27it/s]\n"
     ]
    },
    {
     "name": "stdout",
     "output_type": "stream",
     "text": [
      "Validation Accuracy: 98.22266 %\n",
      "Epoch 78\n",
      "====================\n"
     ]
    },
    {
     "name": "stderr",
     "output_type": "stream",
     "text": [
      "100%|██████████| 235/235 [00:06<00:00, 35.44it/s]\n",
      "100%|██████████| 40/40 [00:01<00:00, 38.62it/s]\n"
     ]
    },
    {
     "name": "stdout",
     "output_type": "stream",
     "text": [
      "Validation Accuracy: 98.23242 %\n",
      "Epoch 79\n",
      "====================\n"
     ]
    },
    {
     "name": "stderr",
     "output_type": "stream",
     "text": [
      "100%|██████████| 235/235 [00:06<00:00, 36.05it/s]\n",
      "100%|██████████| 40/40 [00:00<00:00, 41.00it/s]\n"
     ]
    },
    {
     "name": "stdout",
     "output_type": "stream",
     "text": [
      "Validation Accuracy: 98.22266 %\n",
      "Epoch 80\n",
      "====================\n"
     ]
    },
    {
     "name": "stderr",
     "output_type": "stream",
     "text": [
      "100%|██████████| 235/235 [00:06<00:00, 34.63it/s]\n",
      "100%|██████████| 40/40 [00:01<00:00, 39.94it/s]\n"
     ]
    },
    {
     "name": "stdout",
     "output_type": "stream",
     "text": [
      "Validation Accuracy: 98.22266 %\n",
      "Epoch 81\n",
      "====================\n"
     ]
    },
    {
     "name": "stderr",
     "output_type": "stream",
     "text": [
      "100%|██████████| 235/235 [00:06<00:00, 35.08it/s]\n",
      "100%|██████████| 40/40 [00:00<00:00, 40.71it/s]\n"
     ]
    },
    {
     "name": "stdout",
     "output_type": "stream",
     "text": [
      "Validation Accuracy: 98.22266 %\n",
      "Epoch 82\n",
      "====================\n"
     ]
    },
    {
     "name": "stderr",
     "output_type": "stream",
     "text": [
      "100%|██████████| 235/235 [00:06<00:00, 36.83it/s]\n",
      "100%|██████████| 40/40 [00:01<00:00, 39.38it/s]\n"
     ]
    },
    {
     "name": "stdout",
     "output_type": "stream",
     "text": [
      "Validation Accuracy: 98.22266 %\n",
      "Epoch 83\n",
      "====================\n"
     ]
    },
    {
     "name": "stderr",
     "output_type": "stream",
     "text": [
      "100%|██████████| 235/235 [00:06<00:00, 36.30it/s]\n",
      "100%|██████████| 40/40 [00:01<00:00, 39.58it/s]\n"
     ]
    },
    {
     "name": "stdout",
     "output_type": "stream",
     "text": [
      "Validation Accuracy: 98.22266 %\n",
      "Epoch 84\n",
      "====================\n"
     ]
    },
    {
     "name": "stderr",
     "output_type": "stream",
     "text": [
      "100%|██████████| 235/235 [00:06<00:00, 36.96it/s]\n",
      "100%|██████████| 40/40 [00:00<00:00, 44.01it/s]\n"
     ]
    },
    {
     "name": "stdout",
     "output_type": "stream",
     "text": [
      "Validation Accuracy: 98.22266 %\n",
      "Epoch 85\n",
      "====================\n"
     ]
    },
    {
     "name": "stderr",
     "output_type": "stream",
     "text": [
      "100%|██████████| 235/235 [00:06<00:00, 36.51it/s]\n",
      "100%|██████████| 40/40 [00:00<00:00, 40.40it/s]\n"
     ]
    },
    {
     "name": "stdout",
     "output_type": "stream",
     "text": [
      "Validation Accuracy: 98.22266 %\n",
      "Epoch 86\n",
      "====================\n"
     ]
    },
    {
     "name": "stderr",
     "output_type": "stream",
     "text": [
      "100%|██████████| 235/235 [00:06<00:00, 36.55it/s]\n",
      "100%|██████████| 40/40 [00:01<00:00, 38.36it/s]\n"
     ]
    },
    {
     "name": "stdout",
     "output_type": "stream",
     "text": [
      "Validation Accuracy: 98.23242 %\n",
      "Epoch 87\n",
      "====================\n"
     ]
    },
    {
     "name": "stderr",
     "output_type": "stream",
     "text": [
      "100%|██████████| 235/235 [00:06<00:00, 36.42it/s]\n",
      "100%|██████████| 40/40 [00:01<00:00, 37.94it/s]\n"
     ]
    },
    {
     "name": "stdout",
     "output_type": "stream",
     "text": [
      "Validation Accuracy: 98.24219 %\n",
      "Epoch 88\n",
      "====================\n"
     ]
    },
    {
     "name": "stderr",
     "output_type": "stream",
     "text": [
      "100%|██████████| 235/235 [00:06<00:00, 36.18it/s]\n",
      "100%|██████████| 40/40 [00:00<00:00, 43.34it/s]\n"
     ]
    },
    {
     "name": "stdout",
     "output_type": "stream",
     "text": [
      "Validation Accuracy: 98.24219 %\n",
      "Epoch 89\n",
      "====================\n"
     ]
    },
    {
     "name": "stderr",
     "output_type": "stream",
     "text": [
      "100%|██████████| 235/235 [00:06<00:00, 36.43it/s]\n",
      "100%|██████████| 40/40 [00:01<00:00, 38.75it/s]\n"
     ]
    },
    {
     "name": "stdout",
     "output_type": "stream",
     "text": [
      "Validation Accuracy: 98.24219 %\n",
      "Epoch 90\n",
      "====================\n"
     ]
    },
    {
     "name": "stderr",
     "output_type": "stream",
     "text": [
      "100%|██████████| 235/235 [00:06<00:00, 36.59it/s]\n",
      "100%|██████████| 40/40 [00:00<00:00, 40.40it/s]\n"
     ]
    },
    {
     "name": "stdout",
     "output_type": "stream",
     "text": [
      "Validation Accuracy: 98.24219 %\n",
      "Epoch 91\n",
      "====================\n"
     ]
    },
    {
     "name": "stderr",
     "output_type": "stream",
     "text": [
      "100%|██████████| 235/235 [00:06<00:00, 36.88it/s]\n",
      "100%|██████████| 40/40 [00:00<00:00, 41.73it/s]\n"
     ]
    },
    {
     "name": "stdout",
     "output_type": "stream",
     "text": [
      "Validation Accuracy: 98.24219 %\n",
      "Epoch 92\n",
      "====================\n"
     ]
    },
    {
     "name": "stderr",
     "output_type": "stream",
     "text": [
      "100%|██████████| 235/235 [00:06<00:00, 37.12it/s]\n",
      "100%|██████████| 40/40 [00:01<00:00, 39.13it/s]\n"
     ]
    },
    {
     "name": "stdout",
     "output_type": "stream",
     "text": [
      "Validation Accuracy: 98.25196 %\n",
      "Epoch 93\n",
      "====================\n"
     ]
    },
    {
     "name": "stderr",
     "output_type": "stream",
     "text": [
      "100%|██████████| 235/235 [00:06<00:00, 35.56it/s]\n",
      "100%|██████████| 40/40 [00:00<00:00, 40.30it/s]\n"
     ]
    },
    {
     "name": "stdout",
     "output_type": "stream",
     "text": [
      "Validation Accuracy: 98.25196 %\n",
      "Epoch 94\n",
      "====================\n"
     ]
    },
    {
     "name": "stderr",
     "output_type": "stream",
     "text": [
      "100%|██████████| 235/235 [00:06<00:00, 35.90it/s]\n",
      "100%|██████████| 40/40 [00:00<00:00, 42.63it/s]\n"
     ]
    },
    {
     "name": "stdout",
     "output_type": "stream",
     "text": [
      "Validation Accuracy: 98.25196 %\n",
      "Epoch 95\n",
      "====================\n"
     ]
    },
    {
     "name": "stderr",
     "output_type": "stream",
     "text": [
      "100%|██████████| 235/235 [00:06<00:00, 36.71it/s]\n",
      "100%|██████████| 40/40 [00:01<00:00, 37.98it/s]\n"
     ]
    },
    {
     "name": "stdout",
     "output_type": "stream",
     "text": [
      "Validation Accuracy: 98.25196 %\n",
      "Epoch 96\n",
      "====================\n"
     ]
    },
    {
     "name": "stderr",
     "output_type": "stream",
     "text": [
      "100%|██████████| 235/235 [00:06<00:00, 35.48it/s]\n",
      "100%|██████████| 40/40 [00:00<00:00, 44.50it/s]\n"
     ]
    },
    {
     "name": "stdout",
     "output_type": "stream",
     "text": [
      "Validation Accuracy: 98.25196 %\n",
      "Epoch 97\n",
      "====================\n"
     ]
    },
    {
     "name": "stderr",
     "output_type": "stream",
     "text": [
      "100%|██████████| 235/235 [00:06<00:00, 37.70it/s]\n",
      "100%|██████████| 40/40 [00:01<00:00, 37.83it/s]\n"
     ]
    },
    {
     "name": "stdout",
     "output_type": "stream",
     "text": [
      "Validation Accuracy: 98.25196 %\n",
      "Epoch 98\n",
      "====================\n"
     ]
    },
    {
     "name": "stderr",
     "output_type": "stream",
     "text": [
      "100%|██████████| 235/235 [00:06<00:00, 35.73it/s]\n",
      "100%|██████████| 40/40 [00:00<00:00, 43.30it/s]\n"
     ]
    },
    {
     "name": "stdout",
     "output_type": "stream",
     "text": [
      "Validation Accuracy: 98.25196 %\n",
      "Epoch 99\n",
      "====================\n"
     ]
    },
    {
     "name": "stderr",
     "output_type": "stream",
     "text": [
      "100%|██████████| 235/235 [00:06<00:00, 36.69it/s]\n",
      "100%|██████████| 40/40 [00:00<00:00, 43.05it/s]\n"
     ]
    },
    {
     "name": "stdout",
     "output_type": "stream",
     "text": [
      "Validation Accuracy: 98.25196 %\n",
      "Epoch 100\n",
      "====================\n"
     ]
    },
    {
     "name": "stderr",
     "output_type": "stream",
     "text": [
      "100%|██████████| 235/235 [00:06<00:00, 35.21it/s]\n",
      "100%|██████████| 40/40 [00:00<00:00, 42.80it/s]"
     ]
    },
    {
     "name": "stdout",
     "output_type": "stream",
     "text": [
      "Validation Accuracy: 98.25196 %\n"
     ]
    },
    {
     "name": "stderr",
     "output_type": "stream",
     "text": [
      "\n"
     ]
    }
   ],
   "source": [
    "# Model 학습\n",
    "\n",
    "# 최대 학습 에폭까지 루프 수행\n",
    "for t in range(max_epochs):\n",
    "    print(f\"Epoch {t+1}\")\n",
    "    print(\"=\" * 20)\n",
    "    \n",
    "    # 학습 함수를 호출하여 학습 진행하고 손실 및 정확도 기록\n",
    "    train_loss, train_acc = train(train_loader, model, loss_fn, optimizer, metric)\n",
    "    \n",
    "    # 검증 함수를 호출하여 테스트 데이터에 대한 손실 및 정확도 기록\n",
    "    val_loss, val_acc = validation(test_loader, model, loss_fn, metric)\n",
    "    \n",
    "    # 검증 정확도 출력\n",
    "    print(\"Validation Accuracy: {:.5f} %\".format(val_acc * 100))\n",
    "    \n",
    "    # 학습 과정의 손실과 정확도를 history 딕셔너리에 기록\n",
    "    history[\"loss\"].append(train_loss)\n",
    "    history[\"accuracy\"].append(train_acc)\n",
    "    history[\"val_loss\"].append(val_loss)\n",
    "    history[\"val_accuracy\"].append(val_acc)\n",
    "\n",
    "# 학습이 완료된 모델의 파라미터를 파일로 저장\n",
    "torch.save(model.state_dict(), \"MNIST.pth\")"
   ]
  },
  {
   "cell_type": "code",
   "execution_count": 11,
   "id": "f751110f",
   "metadata": {},
   "outputs": [
    {
     "name": "stderr",
     "output_type": "stream",
     "text": [
      "100%|██████████| 40/40 [00:01<00:00, 38.25it/s]\n"
     ]
    },
    {
     "name": "stdout",
     "output_type": "stream",
     "text": [
      "Accuracy: 98.25196 %\n"
     ]
    },
    {
     "data": {
      "image/png": "[encoded data removed]",
      "text/plain": [
       "<Figure size 640x480 with 1 Axes>"
      ]
     },
     "metadata": {},
     "output_type": "display_data"
    },
    {
     "data": {
      "image/png": "[encoded data removed]",
      "text/plain": [
       "<Figure size 640x480 with 1 Axes>"
      ]
     },
     "metadata": {},
     "output_type": "display_data"
    }
   ],
   "source": [
    "# 미리 학습된 모델 불러오기\n",
    "model = SequentialModel().to(device)\n",
    "model.load_state_dict(torch.load(\"MNIST.pth\"))\n",
    "\n",
    "# 테스트 데이터에 대한 정확도 평가\n",
    "test_accuracy = test(test_loader, model, loss_fn, metric)\n",
    "print(\"Accuracy: {:.5f} %\".format(test_accuracy * 100))\n",
    "\n",
    "# 정확도 그래프 출력\n",
    "plt.plot(history[\"accuracy\"], label=\"Train Accuracy\")\n",
    "plt.plot(history[\"val_accuracy\"], label=\"Test Accuracy\")\n",
    "plt.title(\"Accuracy Over Epochs\")\n",
    "plt.xlabel(\"Epochs\")\n",
    "plt.ylabel(\"Accuracy\")\n",
    "plt.legend()\n",
    "plt.show()\n",
    "\n",
    "# 손실 그래프 출력\n",
    "plt.plot(history[\"loss\"], label=\"Train Loss\")\n",
    "plt.plot(history[\"val_loss\"], label=\"Test Loss\")\n",
    "plt.title(\"Loss Over Epochs\")\n",
    "plt.xlabel(\"Epochs\")\n",
    "plt.ylabel(\"Loss\")\n",
    "plt.legend()\n",
    "plt.show()"
   ]
  },
  {
   "cell_type": "code",
   "execution_count": null,
   "id": "b7d14a57-171c-43b6-8c19-c0651fa87597",
   "metadata": {},
   "outputs": [],
   "source": []
  },
  {
   "cell_type": "code",
   "execution_count": null,
   "id": "2a691152-5725-4326-9b9b-c753b8944b8c",
   "metadata": {},
   "outputs": [],
   "source": []
  }
 ],
 "metadata": {
  "kernelspec": {
   "display_name": "Python 3 (ipykernel)",
   "language": "python",
   "name": "python3"
  },
  "language_info": {
   "codemirror_mode": {
    "name": "ipython",
    "version": 3
   },
   "file_extension": ".py",
   "mimetype": "text/x-python",
   "name": "python",
   "nbconvert_exporter": "python",
   "pygments_lexer": "ipython3",
   "version": "3.8.18"
  }
 },
 "nbformat": 4,
 "nbformat_minor": 5
}
